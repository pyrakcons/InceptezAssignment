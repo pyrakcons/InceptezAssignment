{
 "cells": [
  {
   "cell_type": "code",
   "execution_count": 1,
   "id": "f12924bc",
   "metadata": {},
   "outputs": [],
   "source": [
    "import numpy as np\n",
    "from keras.datasets import mnist\n",
    "\n",
    "import matplotlib.pyplot as plt\n",
    "from tensorflow.keras.utils import to_categorical\n",
    "\n",
    "\n",
    "from keras.models import Sequential\n",
    "from keras.layers import Dense, BatchNormalization, Dropout\n",
    "from tensorflow.keras import optimizers"
   ]
  },
  {
   "cell_type": "code",
   "execution_count": 2,
   "id": "2de2dbc9",
   "metadata": {},
   "outputs": [],
   "source": [
    "import pandas as pd\n",
    "import cv2\n",
    "import matplotlib.pyplot as plt"
   ]
  },
  {
   "cell_type": "code",
   "execution_count": 3,
   "id": "b6932c9d",
   "metadata": {},
   "outputs": [],
   "source": [
    "import zipfile"
   ]
  },
  {
   "cell_type": "code",
   "execution_count": 4,
   "id": "f4a881ce",
   "metadata": {},
   "outputs": [],
   "source": [
    "with zipfile.PyZipFile(\"train_LbELtWX (4).zip\", mode=\"r\") as zip_module:\n",
    "    zip_module.extractall()"
   ]
  },
  {
   "cell_type": "code",
   "execution_count": 5,
   "id": "b489df73",
   "metadata": {},
   "outputs": [],
   "source": [
    "with zipfile.PyZipFile(\"test_ScVgIM0.zip\", mode=\"r\") as zip_module:\n",
    "    zip_module.extractall()"
   ]
  },
  {
   "cell_type": "code",
   "execution_count": 6,
   "id": "50612a4a",
   "metadata": {},
   "outputs": [
    {
     "name": "stdout",
     "output_type": "stream",
     "text": [
      " Volume in drive D has no label.\n",
      " Volume Serial Number is 64D0-0165\n",
      "\n",
      " Directory of D:\\Datascience\\Analytic Vidya Hackathon\\Identify the apparels (Fashion MNIST)\n",
      "\n",
      "09-10-2022  08:11    <DIR>          .\n",
      "09-10-2022  08:11    <DIR>          ..\n",
      "08-10-2022  20:54    <DIR>          .ipynb_checkpoints\n",
      "09-10-2022  08:11            11,707 Identify apparels.ipynb\n",
      "08-10-2022  20:50            90,010 sample_submission_I5njJSF (1).csv\n",
      "08-10-2022  21:10    <DIR>          test\n",
      "09-10-2022  08:12            70,004 test.csv\n",
      "08-10-2022  20:50        13,781,763 test_ScVgIM0.zip\n",
      "08-10-2022  21:10    <DIR>          train\n",
      "09-10-2022  08:11           468,903 train.csv\n",
      "08-10-2022  20:51        82,498,602 train_LbELtWX (4).zip\n",
      "               6 File(s)     96,920,989 bytes\n",
      "               5 Dir(s)  131,997,200,384 bytes free\n"
     ]
    }
   ],
   "source": [
    "ls"
   ]
  },
  {
   "cell_type": "code",
   "execution_count": 7,
   "id": "0fd6f274",
   "metadata": {},
   "outputs": [
    {
     "data": {
      "text/html": [
       "<div>\n",
       "<style scoped>\n",
       "    .dataframe tbody tr th:only-of-type {\n",
       "        vertical-align: middle;\n",
       "    }\n",
       "\n",
       "    .dataframe tbody tr th {\n",
       "        vertical-align: top;\n",
       "    }\n",
       "\n",
       "    .dataframe thead th {\n",
       "        text-align: right;\n",
       "    }\n",
       "</style>\n",
       "<table border=\"1\" class=\"dataframe\">\n",
       "  <thead>\n",
       "    <tr style=\"text-align: right;\">\n",
       "      <th></th>\n",
       "      <th>id</th>\n",
       "      <th>label</th>\n",
       "    </tr>\n",
       "  </thead>\n",
       "  <tbody>\n",
       "    <tr>\n",
       "      <th>0</th>\n",
       "      <td>1</td>\n",
       "      <td>9</td>\n",
       "    </tr>\n",
       "    <tr>\n",
       "      <th>1</th>\n",
       "      <td>2</td>\n",
       "      <td>0</td>\n",
       "    </tr>\n",
       "    <tr>\n",
       "      <th>2</th>\n",
       "      <td>3</td>\n",
       "      <td>0</td>\n",
       "    </tr>\n",
       "    <tr>\n",
       "      <th>3</th>\n",
       "      <td>4</td>\n",
       "      <td>3</td>\n",
       "    </tr>\n",
       "    <tr>\n",
       "      <th>4</th>\n",
       "      <td>5</td>\n",
       "      <td>0</td>\n",
       "    </tr>\n",
       "  </tbody>\n",
       "</table>\n",
       "</div>"
      ],
      "text/plain": [
       "   id  label\n",
       "0   1      9\n",
       "1   2      0\n",
       "2   3      0\n",
       "3   4      3\n",
       "4   5      0"
      ]
     },
     "execution_count": 7,
     "metadata": {},
     "output_type": "execute_result"
    }
   ],
   "source": [
    "labels = pd.read_csv('./train.csv')\n",
    "labels.head()"
   ]
  },
  {
   "cell_type": "code",
   "execution_count": 8,
   "id": "0b60e254",
   "metadata": {},
   "outputs": [],
   "source": [
    "train_img = cv2.imread('./train/1.png')"
   ]
  },
  {
   "cell_type": "code",
   "execution_count": 9,
   "id": "bb368543",
   "metadata": {},
   "outputs": [
    {
     "data": {
      "text/plain": [
       "(28, 28, 3)"
      ]
     },
     "execution_count": 9,
     "metadata": {},
     "output_type": "execute_result"
    }
   ],
   "source": [
    "train_img.shape"
   ]
  },
  {
   "cell_type": "code",
   "execution_count": 10,
   "id": "0e113e3b",
   "metadata": {},
   "outputs": [
    {
     "data": {
      "text/plain": [
       "<matplotlib.image.AxesImage at 0x1e5481885b0>"
      ]
     },
     "execution_count": 10,
     "metadata": {},
     "output_type": "execute_result"
    },
    {
     "data": {
      "image/png": "[encoded data removed]",
      "text/plain": [
       "<Figure size 432x288 with 1 Axes>"
      ]
     },
     "metadata": {
      "needs_background": "light"
     },
     "output_type": "display_data"
    }
   ],
   "source": [
    "plt.imshow(train_img)"
   ]
  },
  {
   "cell_type": "code",
   "execution_count": 11,
   "id": "59b8b29b",
   "metadata": {},
   "outputs": [],
   "source": [
    "import numpy as np\n",
    "targets = pd.Series(labels['label'])\n",
    "one_hot = pd.get_dummies(targets)\n",
    "one_hot_labels = np.asarray(one_hot)"
   ]
  },
  {
   "cell_type": "code",
   "execution_count": 12,
   "id": "f9474014",
   "metadata": {},
   "outputs": [
    {
     "data": {
      "text/html": [
       "<div>\n",
       "<style scoped>\n",
       "    .dataframe tbody tr th:only-of-type {\n",
       "        vertical-align: middle;\n",
       "    }\n",
       "\n",
       "    .dataframe tbody tr th {\n",
       "        vertical-align: top;\n",
       "    }\n",
       "\n",
       "    .dataframe thead th {\n",
       "        text-align: right;\n",
       "    }\n",
       "</style>\n",
       "<table border=\"1\" class=\"dataframe\">\n",
       "  <thead>\n",
       "    <tr style=\"text-align: right;\">\n",
       "      <th></th>\n",
       "      <th>0</th>\n",
       "      <th>1</th>\n",
       "      <th>2</th>\n",
       "      <th>3</th>\n",
       "      <th>4</th>\n",
       "      <th>5</th>\n",
       "      <th>6</th>\n",
       "      <th>7</th>\n",
       "      <th>8</th>\n",
       "      <th>9</th>\n",
       "    </tr>\n",
       "  </thead>\n",
       "  <tbody>\n",
       "    <tr>\n",
       "      <th>0</th>\n",
       "      <td>0</td>\n",
       "      <td>0</td>\n",
       "      <td>0</td>\n",
       "      <td>0</td>\n",
       "      <td>0</td>\n",
       "      <td>0</td>\n",
       "      <td>0</td>\n",
       "      <td>0</td>\n",
       "      <td>0</td>\n",
       "      <td>1</td>\n",
       "    </tr>\n",
       "    <tr>\n",
       "      <th>1</th>\n",
       "      <td>1</td>\n",
       "      <td>0</td>\n",
       "      <td>0</td>\n",
       "      <td>0</td>\n",
       "      <td>0</td>\n",
       "      <td>0</td>\n",
       "      <td>0</td>\n",
       "      <td>0</td>\n",
       "      <td>0</td>\n",
       "      <td>0</td>\n",
       "    </tr>\n",
       "    <tr>\n",
       "      <th>2</th>\n",
       "      <td>1</td>\n",
       "      <td>0</td>\n",
       "      <td>0</td>\n",
       "      <td>0</td>\n",
       "      <td>0</td>\n",
       "      <td>0</td>\n",
       "      <td>0</td>\n",
       "      <td>0</td>\n",
       "      <td>0</td>\n",
       "      <td>0</td>\n",
       "    </tr>\n",
       "    <tr>\n",
       "      <th>3</th>\n",
       "      <td>0</td>\n",
       "      <td>0</td>\n",
       "      <td>0</td>\n",
       "      <td>1</td>\n",
       "      <td>0</td>\n",
       "      <td>0</td>\n",
       "      <td>0</td>\n",
       "      <td>0</td>\n",
       "      <td>0</td>\n",
       "      <td>0</td>\n",
       "    </tr>\n",
       "    <tr>\n",
       "      <th>4</th>\n",
       "      <td>1</td>\n",
       "      <td>0</td>\n",
       "      <td>0</td>\n",
       "      <td>0</td>\n",
       "      <td>0</td>\n",
       "      <td>0</td>\n",
       "      <td>0</td>\n",
       "      <td>0</td>\n",
       "      <td>0</td>\n",
       "      <td>0</td>\n",
       "    </tr>\n",
       "    <tr>\n",
       "      <th>...</th>\n",
       "      <td>...</td>\n",
       "      <td>...</td>\n",
       "      <td>...</td>\n",
       "      <td>...</td>\n",
       "      <td>...</td>\n",
       "      <td>...</td>\n",
       "      <td>...</td>\n",
       "      <td>...</td>\n",
       "      <td>...</td>\n",
       "      <td>...</td>\n",
       "    </tr>\n",
       "    <tr>\n",
       "      <th>59995</th>\n",
       "      <td>0</td>\n",
       "      <td>0</td>\n",
       "      <td>0</td>\n",
       "      <td>0</td>\n",
       "      <td>0</td>\n",
       "      <td>1</td>\n",
       "      <td>0</td>\n",
       "      <td>0</td>\n",
       "      <td>0</td>\n",
       "      <td>0</td>\n",
       "    </tr>\n",
       "    <tr>\n",
       "      <th>59996</th>\n",
       "      <td>0</td>\n",
       "      <td>1</td>\n",
       "      <td>0</td>\n",
       "      <td>0</td>\n",
       "      <td>0</td>\n",
       "      <td>0</td>\n",
       "      <td>0</td>\n",
       "      <td>0</td>\n",
       "      <td>0</td>\n",
       "      <td>0</td>\n",
       "    </tr>\n",
       "    <tr>\n",
       "      <th>59997</th>\n",
       "      <td>0</td>\n",
       "      <td>0</td>\n",
       "      <td>0</td>\n",
       "      <td>1</td>\n",
       "      <td>0</td>\n",
       "      <td>0</td>\n",
       "      <td>0</td>\n",
       "      <td>0</td>\n",
       "      <td>0</td>\n",
       "      <td>0</td>\n",
       "    </tr>\n",
       "    <tr>\n",
       "      <th>59998</th>\n",
       "      <td>1</td>\n",
       "      <td>0</td>\n",
       "      <td>0</td>\n",
       "      <td>0</td>\n",
       "      <td>0</td>\n",
       "      <td>0</td>\n",
       "      <td>0</td>\n",
       "      <td>0</td>\n",
       "      <td>0</td>\n",
       "      <td>0</td>\n",
       "    </tr>\n",
       "    <tr>\n",
       "      <th>59999</th>\n",
       "      <td>0</td>\n",
       "      <td>0</td>\n",
       "      <td>0</td>\n",
       "      <td>0</td>\n",
       "      <td>0</td>\n",
       "      <td>1</td>\n",
       "      <td>0</td>\n",
       "      <td>0</td>\n",
       "      <td>0</td>\n",
       "      <td>0</td>\n",
       "    </tr>\n",
       "  </tbody>\n",
       "</table>\n",
       "<p>60000 rows × 10 columns</p>\n",
       "</div>"
      ],
      "text/plain": [
       "       0  1  2  3  4  5  6  7  8  9\n",
       "0      0  0  0  0  0  0  0  0  0  1\n",
       "1      1  0  0  0  0  0  0  0  0  0\n",
       "2      1  0  0  0  0  0  0  0  0  0\n",
       "3      0  0  0  1  0  0  0  0  0  0\n",
       "4      1  0  0  0  0  0  0  0  0  0\n",
       "...   .. .. .. .. .. .. .. .. .. ..\n",
       "59995  0  0  0  0  0  1  0  0  0  0\n",
       "59996  0  1  0  0  0  0  0  0  0  0\n",
       "59997  0  0  0  1  0  0  0  0  0  0\n",
       "59998  1  0  0  0  0  0  0  0  0  0\n",
       "59999  0  0  0  0  0  1  0  0  0  0\n",
       "\n",
       "[60000 rows x 10 columns]"
      ]
     },
     "execution_count": 12,
     "metadata": {},
     "output_type": "execute_result"
    }
   ],
   "source": [
    "one_hot"
   ]
  },
  {
   "cell_type": "code",
   "execution_count": 13,
   "id": "9c2c5846",
   "metadata": {},
   "outputs": [
    {
     "data": {
      "text/plain": [
       "array([[0, 0, 0, ..., 0, 0, 1],\n",
       "       [1, 0, 0, ..., 0, 0, 0],\n",
       "       [1, 0, 0, ..., 0, 0, 0],\n",
       "       ...,\n",
       "       [0, 0, 0, ..., 0, 0, 0],\n",
       "       [1, 0, 0, ..., 0, 0, 0],\n",
       "       [0, 0, 0, ..., 0, 0, 0]], dtype=uint8)"
      ]
     },
     "execution_count": 13,
     "metadata": {},
     "output_type": "execute_result"
    }
   ],
   "source": [
    "one_hot_labels"
   ]
  },
  {
   "cell_type": "code",
   "execution_count": 14,
   "id": "67c141b7",
   "metadata": {},
   "outputs": [
    {
     "name": "stderr",
     "output_type": "stream",
     "text": [
      "100%|███████████████████████████████████████████████████████████████████████████| 60000/60000 [07:26<00:00, 134.41it/s]\n"
     ]
    }
   ],
   "source": [
    "img_rows=28\n",
    "img_cols=28\n",
    "num_channel=1\n",
    "from tqdm import tqdm\n",
    "#import cv2\n",
    "x_feature = []\n",
    "y_feature = []\n",
    "\n",
    "i = 0 # initialisation\n",
    "for f, img in tqdm(labels.values): # f for format ,jpg\n",
    "    train_img = cv2.imread('./train/{}.png'.format(f),0)\n",
    "    label = one_hot_labels[i]\n",
    "    train_img_resize = cv2.resize(train_img, (img_rows, img_cols)) \n",
    "    x_feature.append(train_img_resize)\n",
    "    y_feature.append(label)\n",
    "    i += 1"
   ]
  },
  {
   "cell_type": "code",
   "execution_count": 15,
   "id": "c1d55829",
   "metadata": {},
   "outputs": [
    {
     "name": "stdout",
     "output_type": "stream",
     "text": [
      "(60000, 28, 28)\n",
      "(60000, 28, 28, 1)\n",
      "(60000, 10)\n"
     ]
    }
   ],
   "source": [
    "x_train_data = np.array(x_feature, np.float32) / 255.   # /= 255 for normolisation\n",
    "print (x_train_data.shape)\n",
    "x_train_data = np.expand_dims(x_train_data, axis = 3) # for keras to given input to Conv2D layer\n",
    "print (x_train_data.shape)\n",
    "y_train_data = np.array(y_feature)\n",
    "print(y_train_data.shape)"
   ]
  },
  {
   "cell_type": "code",
   "execution_count": 16,
   "id": "51e830db",
   "metadata": {},
   "outputs": [
    {
     "data": {
      "text/html": [
       "<div>\n",
       "<style scoped>\n",
       "    .dataframe tbody tr th:only-of-type {\n",
       "        vertical-align: middle;\n",
       "    }\n",
       "\n",
       "    .dataframe tbody tr th {\n",
       "        vertical-align: top;\n",
       "    }\n",
       "\n",
       "    .dataframe thead th {\n",
       "        text-align: right;\n",
       "    }\n",
       "</style>\n",
       "<table border=\"1\" class=\"dataframe\">\n",
       "  <thead>\n",
       "    <tr style=\"text-align: right;\">\n",
       "      <th></th>\n",
       "      <th>id</th>\n",
       "    </tr>\n",
       "  </thead>\n",
       "  <tbody>\n",
       "    <tr>\n",
       "      <th>0</th>\n",
       "      <td>60001</td>\n",
       "    </tr>\n",
       "    <tr>\n",
       "      <th>1</th>\n",
       "      <td>60002</td>\n",
       "    </tr>\n",
       "    <tr>\n",
       "      <th>2</th>\n",
       "      <td>60003</td>\n",
       "    </tr>\n",
       "    <tr>\n",
       "      <th>3</th>\n",
       "      <td>60004</td>\n",
       "    </tr>\n",
       "    <tr>\n",
       "      <th>4</th>\n",
       "      <td>60005</td>\n",
       "    </tr>\n",
       "  </tbody>\n",
       "</table>\n",
       "</div>"
      ],
      "text/plain": [
       "      id\n",
       "0  60001\n",
       "1  60002\n",
       "2  60003\n",
       "3  60004\n",
       "4  60005"
      ]
     },
     "execution_count": 16,
     "metadata": {},
     "output_type": "execute_result"
    }
   ],
   "source": [
    "submission = pd.read_csv('test.csv')\n",
    "test_img = submission['id']\n",
    "submission.head()"
   ]
  },
  {
   "cell_type": "code",
   "execution_count": 17,
   "id": "e665c504",
   "metadata": {},
   "outputs": [
    {
     "name": "stderr",
     "output_type": "stream",
     "text": [
      "100%|███████████████████████████████████████████████████████████████████████████| 10000/10000 [01:03<00:00, 156.86it/s]\n"
     ]
    }
   ],
   "source": [
    "."
   ]
  },
  {
   "cell_type": "code",
   "execution_count": 18,
   "id": "77177de4",
   "metadata": {},
   "outputs": [
    {
     "name": "stdout",
     "output_type": "stream",
     "text": [
      "(10000, 28, 28)\n",
      "(10000, 28, 28, 1)\n"
     ]
    }
   ],
   "source": [
    "x_test_data = np.array(x_test_feature, np.float32) / 255. \n",
    "print (x_test_data.shape)\n",
    "x_test_data = np.expand_dims(x_test_data, axis = 3)\n",
    "print (x_test_data.shape)"
   ]
  },
  {
   "cell_type": "code",
   "execution_count": 19,
   "id": "ef1c6810",
   "metadata": {},
   "outputs": [],
   "source": [
    "import tensorflow as tf"
   ]
  },
  {
   "cell_type": "code",
   "execution_count": 20,
   "id": "66b833e0",
   "metadata": {},
   "outputs": [],
   "source": [
    "def squeeze_excite_block(filters,input):                      \n",
    "    se = tf.keras.layers.GlobalAveragePooling2D()(input)\n",
    "    se = tf.keras.layers.Reshape((1, filters))(se) \n",
    "    se = tf.keras.layers.Dense(filters//16, activation='relu')(se)\n",
    "    se = tf.keras.layers.Dense(filters, activation='sigmoid')(se)\n",
    "    se = tf.keras.layers.multiply([input, se])\n",
    "    return se"
   ]
  },
  {
   "cell_type": "code",
   "execution_count": 21,
   "id": "dab56b8e",
   "metadata": {},
   "outputs": [],
   "source": [
    "def make_model():\n",
    "        s = tf.keras.Input(shape=x_train_data.shape[1:]) \n",
    "        x = tf.keras.layers.Conv2D(32,(3,3),activation='relu',padding='same')(s)\n",
    "        x = tf.keras.layers.Conv2D(32,(3,3),activation='relu',padding='same')(x)\n",
    "        x = tf.keras.layers.Conv2D(32,(3,3),activation='relu',padding='same')(x)\n",
    "        x = tf.keras.layers.BatchNormalization()(x)\n",
    "        x = squeeze_excite_block(32,x)\n",
    "\n",
    "        x = tf.keras.layers.Conv2D(32,(3,3),activation='relu',padding='same')(x)\n",
    "        x = tf.keras.layers.Conv2D(32,(3,3),activation='relu',padding='same')(x)\n",
    "        x = tf.keras.layers.Conv2D(32,(3,3),activation='relu',padding='same')(x)\n",
    "        x = tf.keras.layers.BatchNormalization()(x)\n",
    "        x = squeeze_excite_block(32,x)\n",
    "        x = tf.keras.layers.AveragePooling2D(2)(x)\n",
    "\n",
    "        x = tf.keras.layers.Conv2D(32,(3,3),activation='relu',padding='same')(x)\n",
    "        x = tf.keras.layers.Conv2D(32,(3,3),activation='relu',padding='same')(x)\n",
    "        x = tf.keras.layers.Conv2D(32,(3,3),activation='relu',padding='same')(x)\n",
    "        x = tf.keras.layers.BatchNormalization()(x)\n",
    "        x = squeeze_excite_block(32,x)\n",
    "        x = tf.keras.layers.AveragePooling2D(2)(x)\n",
    "\n",
    "        x = tf.keras.layers.Conv2D(32,(3,3),activation='relu',padding='same')(x)\n",
    "        x = tf.keras.layers.Conv2D(32,(3,3),activation='relu',padding='same')(x)\n",
    "        x = tf.keras.layers.Conv2D(32,(3,3),activation='relu',padding='same')(x)\n",
    "        x = tf.keras.layers.BatchNormalization()(x)\n",
    "        x = squeeze_excite_block(32,x)\n",
    "        x = tf.keras.layers.AveragePooling2D(2)(x)          \n",
    "\n",
    "\n",
    "        x = tf.keras.layers.Conv2D(32,(3,3),activation='relu',padding='same')(x)\n",
    "        x = tf.keras.layers.Conv2D(32,(3,3),activation='relu',padding='same')(x)\n",
    "        x = tf.keras.layers.Conv2D(32,(3,3),activation='relu',padding='same')(x)\n",
    "        x = tf.keras.layers.BatchNormalization()(x)\n",
    "        x = squeeze_excite_block(32,x)\n",
    "        x = tf.keras.layers.AveragePooling2D(2)(x)\n",
    "\n",
    "\n",
    "        x = tf.keras.layers.concatenate([tf.keras.layers.GlobalMaxPooling2D()(x),\n",
    "                                         tf.keras.layers.GlobalAveragePooling2D()(x)])\n",
    "\n",
    "        x = tf.keras.layers.Dense(10,activation='softmax',use_bias=False,\n",
    "                                  kernel_regularizer=tf.keras.regularizers.l1(0.00025))(x)\n",
    "        return tf.keras.Model(inputs=s, outputs=x)"
   ]
  },
  {
   "cell_type": "code",
   "execution_count": 22,
   "id": "cd586d1c",
   "metadata": {},
   "outputs": [],
   "source": [
    "datagen = tf.keras.preprocessing.image.ImageDataGenerator(rotation_range=10, width_shift_range=0.1, shear_range=10,\n",
    "                        height_shift_range=0.1, zoom_range=0.2)\n",
    "datagen.fit(x_train_data)"
   ]
  },
  {
   "cell_type": "code",
   "execution_count": null,
   "id": "44ff1546",
   "metadata": {},
   "outputs": [
    {
     "name": "stderr",
     "output_type": "stream",
     "text": [
      "C:\\ProgramData\\Anaconda3\\lib\\site-packages\\keras\\optimizers\\optimizer_v2\\adam.py:110: UserWarning: The `lr` argument is deprecated, use `learning_rate` instead.\n",
      "  super(Adam, self).__init__(name, **kwargs)\n",
      "C:\\Users\\RAJKUMAR\\AppData\\Local\\Temp/ipykernel_10708/2148566667.py:7: UserWarning: `Model.fit_generator` is deprecated and will be removed in a future version. Please use `Model.fit`, which supports generators.\n",
      "  model.fit_generator(datagen.flow(x_train_data, y_train_data, batch_size=batch_size,shuffle=True),\n",
      "C:\\Users\\RAJKUMAR\\AppData\\Local\\Temp/ipykernel_10708/2148566667.py:10: UserWarning: `Model.fit_generator` is deprecated and will be removed in a future version. Please use `Model.fit`, which supports generators.\n",
      "  model.fit_generator(datagen.flow(x_train_data, y_train_data, batch_size=batch_size,shuffle=True),\n",
      "C:\\Users\\RAJKUMAR\\AppData\\Local\\Temp/ipykernel_10708/2148566667.py:13: UserWarning: `Model.fit_generator` is deprecated and will be removed in a future version. Please use `Model.fit`, which supports generators.\n",
      "  model.fit_generator(datagen.flow(x_train_data, y_train_data, batch_size=batch_size,shuffle=True),\n"
     ]
    }
   ],
   "source": [
    "batch_size=32\n",
    "supermodel=[]\n",
    "for i in range(5):\n",
    "        np.random.seed(i)\n",
    "        model=make_model()                \n",
    "        model.compile(optimizer=optimizers.Adam(lr=0.001), loss='categorical_crossentropy',metrics=['accuracy'])\n",
    "        model.fit_generator(datagen.flow(x_train_data, y_train_data, batch_size=batch_size,shuffle=True),\n",
    "                    steps_per_epoch=len(x_train_data) / batch_size, epochs=15,verbose=0)\n",
    "        model.compile(optimizer=optimizers.Adam(lr=0.0001), loss='categorical_crossentropy',metrics=['accuracy'])\n",
    "        model.fit_generator(datagen.flow(x_train_data, y_train_data, batch_size=batch_size,shuffle=True),\n",
    "                    steps_per_epoch=len(x_train_data) / batch_size, epochs=3,verbose=0)\n",
    "        model.compile(optimizer=optimizers.Adam(lr=0.00001), loss='categorical_crossentropy',metrics=['accuracy'])\n",
    "        model.fit_generator(datagen.flow(x_train_data, y_train_data, batch_size=batch_size,shuffle=True),\n",
    "                    steps_per_epoch=len(x_train_data) / batch_size, epochs=3,verbose=0)\n",
    "        model.fit(x_train_data, y_train_data, batch_size=batch_size,shuffle=True, epochs=1,verbose=0)\n",
    "        supermodel.append(model)"
   ]
  },
  {
   "cell_type": "code",
   "execution_count": null,
   "id": "772466f6",
   "metadata": {},
   "outputs": [],
   "source": [
    "pred =np.asarray([a.predict(x_test_data) for a in supermodel])\n",
    "predictions = np.argmax(np.mean(pred,axis=0),axis=1)"
   ]
  },
  {
   "cell_type": "code",
   "execution_count": null,
   "id": "3dcac6e4",
   "metadata": {},
   "outputs": [],
   "source": [
    "predict = pd.DataFrame(data=predictions ,columns=[\"label\"])"
   ]
  },
  {
   "cell_type": "code",
   "execution_count": null,
   "id": "e285e5d6",
   "metadata": {},
   "outputs": [],
   "source": []
  },
  {
   "cell_type": "code",
   "execution_count": null,
   "id": "f939986d",
   "metadata": {},
   "outputs": [],
   "source": []
  }
 ],
 "metadata": {
  "kernelspec": {
   "display_name": "Python 3 (ipykernel)",
   "language": "python",
   "name": "python3"
  },
  "language_info": {
   "codemirror_mode": {
    "name": "ipython",
    "version": 3
   },
   "file_extension": ".py",
   "mimetype": "text/x-python",
   "name": "python",
   "nbconvert_exporter": "python",
   "pygments_lexer": "ipython3",
   "version": "3.9.7"
  }
 },
 "nbformat": 4,
 "nbformat_minor": 5
}
