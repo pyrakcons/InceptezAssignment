{
 "cells": [
  {
   "cell_type": "markdown",
   "id": "6c07d4cc",
   "metadata": {},
   "source": [
    "### 24-02-2022"
   ]
  },
  {
   "cell_type": "markdown",
   "id": "50bf87cf",
   "metadata": {},
   "source": [
    "#### 1.\tCreate a file calc.py which has following functions\n",
    "#### a.\tFunction to find the factorial of a number\n",
    "#### b.\tFunction to convert degree to Fahrenheit\n",
    "#### Write a new program in file “maths.py” such that you import functions of the file calc.py to your new program. \n",
    "#### Use from <module> import <functions> statement to import the functions from the calc module\n"
   ]
  },
  {
   "cell_type": "code",
   "execution_count": 8,
   "id": "8aeed10f",
   "metadata": {},
   "outputs": [
    {
     "name": "stdout",
     "output_type": "stream",
     "text": [
      "Overwriting test.py\n"
     ]
    }
   ],
   "source": [
    "# trying to create py file from jupyter notebook.\n",
    "%%writefile test.py\n",
    "import numpy as np\n",
    "import pandas as pd\n",
    "print(f\"numby version:{np.__version__}\")\n",
    "print(f\"panda version:{pd.__version__}\")"
   ]
  },
  {
   "cell_type": "code",
   "execution_count": 11,
   "id": "9ba0a919",
   "metadata": {
    "scrolled": true
   },
   "outputs": [
    {
     "name": "stdout",
     "output_type": "stream",
     "text": [
      "numby version:1.20.3\n",
      "panda version:1.3.4\n"
     ]
    }
   ],
   "source": [
    "# file is created from the jupyter notebook file location.\n",
    "%run -i test.py"
   ]
  },
  {
   "cell_type": "code",
   "execution_count": 2,
   "id": "1485c0e4",
   "metadata": {},
   "outputs": [
    {
     "name": "stdout",
     "output_type": "stream",
     "text": [
      "Overwriting calc.py\n"
     ]
    }
   ],
   "source": [
    "%%writefile calc.py\n",
    "def Fact_number(n):\n",
    "    if n == 1:\n",
    "        return n\n",
    "    else:\n",
    "        return (n * Fact_number(n-1))\n",
    "    \n",
    "def Deg_to_Fahreheit(C):\n",
    "    F = (C * 9/5) + 32\n",
    "    return (f\"{F} °F\")"
   ]
  },
  {
   "cell_type": "code",
   "execution_count": 53,
   "id": "a4863916",
   "metadata": {},
   "outputs": [
    {
     "name": "stdout",
     "output_type": "stream",
     "text": [
      "Overwriting maths.py\n"
     ]
    }
   ],
   "source": [
    "%%writefile maths.py\n",
    "import calc\n",
    "n= int(input())\n",
    "print(f\"Factorial of {n} is {calc.Fact_number(n)}\")\n",
    "C = int(input())\n",
    "print(f\"{C}°C is convert to {calc.Deg_to_Fahreheit(C)}\")"
   ]
  },
  {
   "cell_type": "code",
   "execution_count": 54,
   "id": "7e8c8835",
   "metadata": {},
   "outputs": [
    {
     "name": "stdout",
     "output_type": "stream",
     "text": [
      "4\n",
      "Factorial of 4 is 24\n",
      "10\n",
      "10°C is convert to 50.0 °F\n"
     ]
    }
   ],
   "source": [
    "%run -i maths.py"
   ]
  },
  {
   "cell_type": "markdown",
   "id": "cd564f84",
   "metadata": {},
   "source": [
    "### 2.\tImplement a simple generator for Fibonacci series"
   ]
  },
  {
   "cell_type": "code",
   "execution_count": 16,
   "id": "82cb4126",
   "metadata": {},
   "outputs": [],
   "source": [
    "def Fibonacci_generator(n):\n",
    "    # Taking 1st two fibonacci numbers as 0 and 1\n",
    "    f = [0, 1]\n",
    "    for i in range(2, n+1):\n",
    "        f.append(f[i-1] + f[i-2])\n",
    "    #return \n",
    "    yield f[n]   "
   ]
  },
  {
   "cell_type": "code",
   "execution_count": 19,
   "id": "3aa367fb",
   "metadata": {},
   "outputs": [
    {
     "name": "stdout",
     "output_type": "stream",
     "text": [
      "9\n"
     ]
    },
    {
     "data": {
      "text/plain": [
       "34"
      ]
     },
     "execution_count": 19,
     "metadata": {},
     "output_type": "execute_result"
    }
   ],
   "source": [
    "n= int(input())\n",
    "fin_no = Fibonacci_generator(n)\n",
    "next(fin_no)"
   ]
  },
  {
   "cell_type": "code",
   "execution_count": 20,
   "id": "aaef91e0",
   "metadata": {},
   "outputs": [
    {
     "ename": "StopIteration",
     "evalue": "",
     "output_type": "error",
     "traceback": [
      "\u001b[1;31m---------------------------------------------------------------------------\u001b[0m",
      "\u001b[1;31mStopIteration\u001b[0m                             Traceback (most recent call last)",
      "\u001b[1;32mD:\\Datascience\\inceptez\\Assignment Work\\maths.py\u001b[0m in \u001b[0;36m<module>\u001b[1;34m\u001b[0m\n\u001b[1;32m----> 1\u001b[1;33m \u001b[0mnext\u001b[0m\u001b[1;33m(\u001b[0m\u001b[0mfin_no\u001b[0m\u001b[1;33m)\u001b[0m\u001b[1;33m\u001b[0m\u001b[1;33m\u001b[0m\u001b[0m\n\u001b[0m",
      "\u001b[1;31mStopIteration\u001b[0m: "
     ]
    }
   ],
   "source": [
    "next(fin_no)"
   ]
  },
  {
   "cell_type": "markdown",
   "id": "cd2a98ca",
   "metadata": {},
   "source": [
    "#### 3.\tWrite an iterator class to iterate over a sequence of values in the reverse direction"
   ]
  },
  {
   "cell_type": "code",
   "execution_count": 48,
   "id": "4f5256a4",
   "metadata": {},
   "outputs": [
    {
     "name": "stdout",
     "output_type": "stream",
     "text": [
      "[3, 8, 9, 2]\n",
      "3\n",
      "8\n",
      "9\n",
      "2\n"
     ]
    }
   ],
   "source": [
    "my_list = [2, 9, 8, 3]\n",
    "my_list.reverse()\n",
    "print(my_list)\n",
    "\n",
    "my_iter = iter(my_list)\n",
    "\n",
    "for i in range(len(my_list)):\n",
    "    print(next(my_iter))"
   ]
  },
  {
   "cell_type": "markdown",
   "id": "fc0d7148",
   "metadata": {},
   "source": [
    "#### 4.\tWrite a function “salary” that takes in base pay, HRA and special allowance as arguments and returns the sum of all the 3 salary elements. Then create a decorator function to add an additional element “Tax” (30% of base pay) and assign it back to base pay variable, and return the function (i.e., the final calculation of salary also includes tax)"
   ]
  },
  {
   "cell_type": "code",
   "execution_count": 70,
   "id": "5b7df3bf",
   "metadata": {},
   "outputs": [],
   "source": [
    "def Sal_reduction(func,tax=30):\n",
    "    def Sal_red(base_pay,HRA,SA):\n",
    "        sal = base_pay+HRA+SA\n",
    "        final_pay = sal - sal*(tax/100)\n",
    "        print(f\"Net Salary is: {final_pay}\") # Decorator \n",
    "        return func(base_pay,HRA,SA)\n",
    "    return Sal_red\n",
    "    "
   ]
  },
  {
   "cell_type": "code",
   "execution_count": 71,
   "id": "7715a4ee",
   "metadata": {},
   "outputs": [],
   "source": [
    "@Sal_reduction\n",
    "def Salary(base_pay,HRA,SA):\n",
    "    gr_sal =float(base_pay+HRA+SA)  \n",
    "    return (f\"Gross Salary: {gr_sal}\")"
   ]
  },
  {
   "cell_type": "code",
   "execution_count": 72,
   "id": "1c192510",
   "metadata": {},
   "outputs": [
    {
     "name": "stdout",
     "output_type": "stream",
     "text": [
      "Net Salary is: 24500.0\n"
     ]
    },
    {
     "data": {
      "text/plain": [
       "'Gross Salary: 35000.0'"
      ]
     },
     "execution_count": 72,
     "metadata": {},
     "output_type": "execute_result"
    }
   ],
   "source": [
    "Salary(20000,10000,5000)"
   ]
  },
  {
   "cell_type": "markdown",
   "id": "d1e5c262",
   "metadata": {},
   "source": [
    "#### 5.\tWrite 3 examples on possible methods to changing a tuple"
   ]
  },
  {
   "cell_type": "code",
   "execution_count": 58,
   "id": "5eb09002",
   "metadata": {},
   "outputs": [
    {
     "name": "stdout",
     "output_type": "stream",
     "text": [
      "(1, 2, [5, 6])\n"
     ]
    }
   ],
   "source": [
    "# Method1 : tuple can allow multiple datatypes so if tuple have list method then we can change\n",
    "# example1\n",
    "tup1= (1,2,[3,4])\n",
    "tup1[2][0] = 5\n",
    "tup1[2][1] = 6\n",
    "print(tup1)"
   ]
  },
  {
   "cell_type": "code",
   "execution_count": 66,
   "id": "1a83e256",
   "metadata": {},
   "outputs": [
    {
     "name": "stdout",
     "output_type": "stream",
     "text": [
      "(3, 5.5, 9)\n"
     ]
    }
   ],
   "source": [
    "# Method2 : Tuple unpcking\n",
    "#example\n",
    "tuple1 = 3, 5.5, 'nine'\n",
    "a,b,c = tuple1\n",
    "c = 9\n",
    "tuple1 = a,b,c\n",
    "print(tuple1)"
   ]
  },
  {
   "cell_type": "code",
   "execution_count": 67,
   "id": "776e6c29",
   "metadata": {},
   "outputs": [
    {
     "data": {
      "text/plain": [
       "[(0, 'Data'), (1, 'Functions'), (2, 'Stats')]"
      ]
     },
     "execution_count": 67,
     "metadata": {},
     "output_type": "execute_result"
    }
   ],
   "source": [
    "# Method3: Enumaerate:\n",
    "#example:\n",
    "x1 = ['Data', 'Functions', 'Stats']\n",
    "list(enumerate(x1))\n"
   ]
  },
  {
   "cell_type": "code",
   "execution_count": 69,
   "id": "7321254e",
   "metadata": {},
   "outputs": [
    {
     "data": {
      "text/plain": [
       "[(200, 'Data'), (201, 'Functions'), (202, 'Stats')]"
      ]
     },
     "execution_count": 69,
     "metadata": {},
     "output_type": "execute_result"
    }
   ],
   "source": [
    "# using this option we enumerate the index value as per user own.\n",
    "x1 = ['Data', 'Functions', 'Stats']\n",
    "list(enumerate(x1, 200))"
   ]
  },
  {
   "cell_type": "markdown",
   "id": "a0e04cea",
   "metadata": {},
   "source": [
    "## 15-02-2022"
   ]
  },
  {
   "cell_type": "markdown",
   "id": "42db2566",
   "metadata": {},
   "source": [
    "#### 1.\tGet the input for 2 variables though “input” function and pass them to a function to return the addition of two variables"
   ]
  },
  {
   "cell_type": "code",
   "execution_count": 23,
   "id": "f506800a",
   "metadata": {},
   "outputs": [],
   "source": [
    "def addition():    \n",
    "    '''Sum of two inputs'''\n",
    "    return int(input('Enter Input1: ')) + int(input('Enter Input2: '))"
   ]
  },
  {
   "cell_type": "code",
   "execution_count": 24,
   "id": "fd27809d",
   "metadata": {},
   "outputs": [
    {
     "name": "stdout",
     "output_type": "stream",
     "text": [
      "Enter Input1: 10\n",
      "Enter Input2: 20\n"
     ]
    },
    {
     "data": {
      "text/plain": [
       "30"
      ]
     },
     "execution_count": 24,
     "metadata": {},
     "output_type": "execute_result"
    }
   ],
   "source": [
    "addition()"
   ]
  },
  {
   "cell_type": "markdown",
   "id": "f9083e71",
   "metadata": {},
   "source": [
    "#### 2.\tWhat happens if we try to add an int with str and vice versa. Please print out the error"
   ]
  },
  {
   "cell_type": "code",
   "execution_count": 27,
   "id": "2de4b5c0",
   "metadata": {},
   "outputs": [
    {
     "name": "stdout",
     "output_type": "stream",
     "text": [
      "Enter Input1: 10\n",
      "Enter Input2: jhasd\n"
     ]
    },
    {
     "ename": "TypeError",
     "evalue": "unsupported operand type(s) for +: 'int' and 'str'",
     "output_type": "error",
     "traceback": [
      "\u001b[1;31m---------------------------------------------------------------------------\u001b[0m",
      "\u001b[1;31mTypeError\u001b[0m                                 Traceback (most recent call last)",
      "\u001b[1;32m~\\AppData\\Local\\Temp/ipykernel_9892/921199707.py\u001b[0m in \u001b[0;36m<module>\u001b[1;34m\u001b[0m\n\u001b[0;32m      1\u001b[0m \u001b[0minp1\u001b[0m \u001b[1;33m=\u001b[0m \u001b[0minput\u001b[0m\u001b[1;33m(\u001b[0m\u001b[1;34m'Enter Input1: '\u001b[0m\u001b[1;33m)\u001b[0m\u001b[1;33m\u001b[0m\u001b[1;33m\u001b[0m\u001b[0m\n\u001b[0;32m      2\u001b[0m \u001b[0minp2\u001b[0m \u001b[1;33m=\u001b[0m \u001b[0minput\u001b[0m\u001b[1;33m(\u001b[0m\u001b[1;34m'Enter Input2: '\u001b[0m\u001b[1;33m)\u001b[0m\u001b[1;33m\u001b[0m\u001b[1;33m\u001b[0m\u001b[0m\n\u001b[1;32m----> 3\u001b[1;33m \u001b[0mprint\u001b[0m\u001b[1;33m(\u001b[0m\u001b[0mint\u001b[0m\u001b[1;33m(\u001b[0m\u001b[0minp1\u001b[0m\u001b[1;33m)\u001b[0m \u001b[1;33m+\u001b[0m \u001b[0minp2\u001b[0m\u001b[1;33m)\u001b[0m\u001b[1;33m\u001b[0m\u001b[1;33m\u001b[0m\u001b[0m\n\u001b[0m",
      "\u001b[1;31mTypeError\u001b[0m: unsupported operand type(s) for +: 'int' and 'str'"
     ]
    }
   ],
   "source": [
    "inp1 = input('Enter Input1: ')\n",
    "inp2 = input('Enter Input2: ')\n",
    "print(int(inp1) + inp2)"
   ]
  },
  {
   "cell_type": "code",
   "execution_count": 28,
   "id": "9f2d4faf",
   "metadata": {},
   "outputs": [
    {
     "name": "stdout",
     "output_type": "stream",
     "text": [
      "Enter Input1: 10\n",
      "Enter Input2: jadhj\n"
     ]
    },
    {
     "ename": "TypeError",
     "evalue": "can only concatenate str (not \"int\") to str",
     "output_type": "error",
     "traceback": [
      "\u001b[1;31m---------------------------------------------------------------------------\u001b[0m",
      "\u001b[1;31mTypeError\u001b[0m                                 Traceback (most recent call last)",
      "\u001b[1;32m~\\AppData\\Local\\Temp/ipykernel_9892/441179507.py\u001b[0m in \u001b[0;36m<module>\u001b[1;34m\u001b[0m\n\u001b[0;32m      1\u001b[0m \u001b[0minp1\u001b[0m \u001b[1;33m=\u001b[0m \u001b[0minput\u001b[0m\u001b[1;33m(\u001b[0m\u001b[1;34m'Enter Input1: '\u001b[0m\u001b[1;33m)\u001b[0m\u001b[1;33m\u001b[0m\u001b[1;33m\u001b[0m\u001b[0m\n\u001b[0;32m      2\u001b[0m \u001b[0minp2\u001b[0m \u001b[1;33m=\u001b[0m \u001b[0minput\u001b[0m\u001b[1;33m(\u001b[0m\u001b[1;34m'Enter Input2: '\u001b[0m\u001b[1;33m)\u001b[0m\u001b[1;33m\u001b[0m\u001b[1;33m\u001b[0m\u001b[0m\n\u001b[1;32m----> 3\u001b[1;33m \u001b[0mprint\u001b[0m\u001b[1;33m(\u001b[0m\u001b[0minp2\u001b[0m \u001b[1;33m+\u001b[0m \u001b[0mint\u001b[0m\u001b[1;33m(\u001b[0m\u001b[0minp1\u001b[0m\u001b[1;33m)\u001b[0m\u001b[1;33m)\u001b[0m\u001b[1;33m\u001b[0m\u001b[1;33m\u001b[0m\u001b[0m\n\u001b[0m",
      "\u001b[1;31mTypeError\u001b[0m: can only concatenate str (not \"int\") to str"
     ]
    }
   ],
   "source": [
    "inp1 = input('Enter Input1: ')\n",
    "inp2 = input('Enter Input2: ')\n",
    "print(inp2 + int(inp1))"
   ]
  },
  {
   "cell_type": "markdown",
   "id": "cd7dc02c",
   "metadata": {},
   "source": [
    "#### 3.\tCreate a string variable for the word “Data Science” and see if the letter “s” is present in it using membership operators"
   ]
  },
  {
   "cell_type": "code",
   "execution_count": 33,
   "id": "5cfd02d7",
   "metadata": {},
   "outputs": [
    {
     "name": "stdout",
     "output_type": "stream",
     "text": [
      "False\n"
     ]
    }
   ],
   "source": [
    "str1 = 'Data Science'\n",
    "print('s' in str1)"
   ]
  },
  {
   "cell_type": "code",
   "execution_count": 34,
   "id": "676b62d3",
   "metadata": {},
   "outputs": [
    {
     "name": "stdout",
     "output_type": "stream",
     "text": [
      "True\n"
     ]
    }
   ],
   "source": [
    "str1 = 'Data Science'\n",
    "print('s'.upper() in str1)"
   ]
  },
  {
   "cell_type": "markdown",
   "id": "d595544e",
   "metadata": {},
   "source": [
    "#### 4.\tWrite a function and pass a number list as an argument to the function. And return True if the first and last number of a given list is same. If numbers are different then return False"
   ]
  },
  {
   "cell_type": "code",
   "execution_count": 35,
   "id": "a5cbf956",
   "metadata": {},
   "outputs": [],
   "source": [
    "def FunMatchFirstwithLastnumber(list1):\n",
    "    '''Match the first and last number'''\n",
    "    return list1[0] == list1[-1]"
   ]
  },
  {
   "cell_type": "code",
   "execution_count": 38,
   "id": "5a6ebec7",
   "metadata": {},
   "outputs": [
    {
     "data": {
      "text/plain": [
       "False"
      ]
     },
     "execution_count": 38,
     "metadata": {},
     "output_type": "execute_result"
    }
   ],
   "source": [
    "FunMatchFirstwithLastnumber([10,20,30,40])"
   ]
  },
  {
   "cell_type": "code",
   "execution_count": 39,
   "id": "8fd2f773",
   "metadata": {},
   "outputs": [
    {
     "data": {
      "text/plain": [
       "True"
      ]
     },
     "execution_count": 39,
     "metadata": {},
     "output_type": "execute_result"
    }
   ],
   "source": [
    "FunMatchFirstwithLastnumber([10,20,30,10])"
   ]
  },
  {
   "cell_type": "markdown",
   "id": "4544273b",
   "metadata": {},
   "source": [
    "#### 5.\tIterate the given list of numbers (l1) and print only those numbers which are divisible by 5. (l1 = [10, 20, 33, 46, 55])"
   ]
  },
  {
   "cell_type": "code",
   "execution_count": 41,
   "id": "8e413537",
   "metadata": {},
   "outputs": [
    {
     "name": "stdout",
     "output_type": "stream",
     "text": [
      "10\n",
      "20\n",
      "55\n"
     ]
    }
   ],
   "source": [
    "l1 = [10, 20, 33, 46, 55]\n",
    "for i in l1:\n",
    "     if i % 5 == 0: # condition check whether list value is divisable by 5 if divisable then print the result. \n",
    "            print(i)"
   ]
  },
  {
   "cell_type": "markdown",
   "id": "0c4736d9",
   "metadata": {},
   "source": [
    "### 6.\tWrite a program to create function calculation() such that it can accept two variables and calculate addition and subtraction. Also, it must return both addition and subtraction in a single return call.\n",
    "#### a.\tHint: Separate return values with a comma\n"
   ]
  },
  {
   "cell_type": "code",
   "execution_count": 45,
   "id": "16cde4b1",
   "metadata": {},
   "outputs": [],
   "source": [
    "def Calculation(inp1,inp2):\n",
    "    '''Return the Addition and subtraction value in same return statement'''\n",
    "    x = inp1 + inp2\n",
    "    y = inp1 - inp2\n",
    "    return x, y"
   ]
  },
  {
   "cell_type": "code",
   "execution_count": 47,
   "id": "d623b926",
   "metadata": {},
   "outputs": [
    {
     "data": {
      "text/plain": [
       "(30, 10)"
      ]
     },
     "execution_count": 47,
     "metadata": {},
     "output_type": "execute_result"
    }
   ],
   "source": [
    "Calculation(20,10)"
   ]
  },
  {
   "cell_type": "markdown",
   "id": "09525eba",
   "metadata": {},
   "source": [
    "#### 7.\tWrite a program to demonstrate the following Syntax error\n",
    "### a.\tSyntaxError: non-default argument follows default argument\n"
   ]
  },
  {
   "cell_type": "code",
   "execution_count": 48,
   "id": "83b082c0",
   "metadata": {},
   "outputs": [
    {
     "ename": "SyntaxError",
     "evalue": "non-default argument follows default argument (Temp/ipykernel_9892/4124842449.py, line 1)",
     "output_type": "error",
     "traceback": [
      "\u001b[1;36m  File \u001b[1;32m\"C:\\Users\\RAJKUMAR\\AppData\\Local\\Temp/ipykernel_9892/4124842449.py\"\u001b[1;36m, line \u001b[1;32m1\u001b[0m\n\u001b[1;33m    def Function1(inp1='default',inp2)\u001b[0m\n\u001b[1;37m                                     ^\u001b[0m\n\u001b[1;31mSyntaxError\u001b[0m\u001b[1;31m:\u001b[0m non-default argument follows default argument\n"
     ]
    }
   ],
   "source": [
    "def Function1(inp1='default',inp2)"
   ]
  },
  {
   "cell_type": "markdown",
   "id": "e7bcf5bc",
   "metadata": {},
   "source": [
    "#### 8.\tWhat’s recursion? Explain in your own words and write a program to create a recursive function to calculate the sum of numbers from 0 to 10"
   ]
  },
  {
   "cell_type": "markdown",
   "id": "414f2f44",
   "metadata": {},
   "source": [
    "#### Explanation:\n",
    "#### Recursion function that calls itself during the execution and it will provide the result of the function. We can use that result as per our own."
   ]
  },
  {
   "cell_type": "code",
   "execution_count": 2,
   "id": "41512bfd",
   "metadata": {},
   "outputs": [],
   "source": [
    "def Sumofvalue(n):\n",
    "    '''calculate the sum of value using resursion'''\n",
    "    if n == 1:\n",
    "        return n\n",
    "    else:\n",
    "        return (n + Sumofvalue(n-1))    "
   ]
  },
  {
   "cell_type": "code",
   "execution_count": 3,
   "id": "3ff86ddd",
   "metadata": {},
   "outputs": [
    {
     "data": {
      "text/plain": [
       "55"
      ]
     },
     "execution_count": 3,
     "metadata": {},
     "output_type": "execute_result"
    }
   ],
   "source": [
    "Sumofvalue(10) "
   ]
  },
  {
   "cell_type": "markdown",
   "id": "2739fc20",
   "metadata": {},
   "source": [
    "#### 9.\tUse filter and lambda function to calculate square for below numbers only if they are odd number\n",
    "#### a.\t[12, 11, 53, 22, 21, 77, 87, 88, 98]\n"
   ]
  },
  {
   "cell_type": "code",
   "execution_count": 75,
   "id": "cd70a84c",
   "metadata": {},
   "outputs": [
    {
     "name": "stdout",
     "output_type": "stream",
     "text": [
      "[121, 2809, 441, 5929, 7569]\n"
     ]
    }
   ],
   "source": [
    "org_list = [12, 11, 53, 22, 21, 77, 87, 88, 98]\n",
    "list1 = list(filter(lambda x : x % 2 != 0, org_list))\n",
    "list2= list(map(lambda x: x**2,list1))\n",
    "print(list2)"
   ]
  },
  {
   "cell_type": "markdown",
   "id": "8455daf0",
   "metadata": {},
   "source": [
    "#### 10.\t Write a function (not a lambda function) and use it to demonstrate an example for map function (any logical function of your choice)"
   ]
  },
  {
   "cell_type": "code",
   "execution_count": 72,
   "id": "7c2c2fae",
   "metadata": {},
   "outputs": [],
   "source": [
    "def LogicalFunction(inp1,inp2):\n",
    "    '''Check the input 1 and input2, if matched then print 1 input else print input 1 and 2 '''\n",
    "    if inp1 == inp2:\n",
    "        return inp1\n",
    "    else:\n",
    "        return inp1,inp2"
   ]
  },
  {
   "cell_type": "code",
   "execution_count": 70,
   "id": "b31cf38c",
   "metadata": {},
   "outputs": [
    {
     "name": "stdout",
     "output_type": "stream",
     "text": [
      "[10, 20, 30, 40]\n"
     ]
    }
   ],
   "source": [
    "inp1 = [10, 20, 30, 40]\n",
    "inp2 = [10, 20, 30, 40]\n",
    "mapp = list(map(LogicalFunction,inp1,inp2))\n",
    "print (mapp)"
   ]
  },
  {
   "cell_type": "code",
   "execution_count": 73,
   "id": "88b319da",
   "metadata": {},
   "outputs": [
    {
     "name": "stdout",
     "output_type": "stream",
     "text": [
      "[10, 20, 30, (50, 40)]\n"
     ]
    }
   ],
   "source": [
    "inp1 = [10, 20, 30, 50]\n",
    "inp2 = [10, 20, 30, 40]\n",
    "mapp = list(map(LogicalFunction,inp1,inp2))\n",
    "print (mapp)"
   ]
  },
  {
   "cell_type": "markdown",
   "id": "b7cd727e",
   "metadata": {},
   "source": [
    "## 09-02-2022"
   ]
  },
  {
   "cell_type": "markdown",
   "id": "8abcc0c4",
   "metadata": {},
   "source": [
    "## 1.\tImport the necessary package to\n",
    "#### a.\tSet the current working directory\n",
    "#### b.\tChange the working directory"
   ]
  },
  {
   "cell_type": "code",
   "execution_count": null,
   "id": "2c2b93cf",
   "metadata": {},
   "outputs": [],
   "source": [
    "# Import the OS package\n",
    "import os"
   ]
  },
  {
   "cell_type": "code",
   "execution_count": null,
   "id": "ca51f13f",
   "metadata": {},
   "outputs": [],
   "source": [
    "# To know the current working directory\n",
    "os.getcwd()"
   ]
  },
  {
   "cell_type": "code",
   "execution_count": null,
   "id": "dd45ad06",
   "metadata": {},
   "outputs": [],
   "source": [
    "# To chnage the working Directory\n",
    "os.chdir('D:/Datascience/inceptez')"
   ]
  },
  {
   "cell_type": "code",
   "execution_count": null,
   "id": "748c2930",
   "metadata": {},
   "outputs": [],
   "source": [
    "os.getcwd()"
   ]
  },
  {
   "cell_type": "code",
   "execution_count": null,
   "id": "b0bd1c64",
   "metadata": {},
   "outputs": [],
   "source": [
    "os.chdir('D:/Datascience/inceptez/Assignment Work')"
   ]
  },
  {
   "cell_type": "code",
   "execution_count": null,
   "id": "027d7c67",
   "metadata": {},
   "outputs": [],
   "source": [
    "os.getcwd()"
   ]
  },
  {
   "cell_type": "markdown",
   "id": "d7de9ad8",
   "metadata": {},
   "source": [
    "## 2.\tCreate the string, int and float variable and delete them all in the next cell"
   ]
  },
  {
   "cell_type": "code",
   "execution_count": null,
   "id": "5b9f3632",
   "metadata": {},
   "outputs": [],
   "source": [
    "# Assign string,int & float into list\n",
    "list_a = ['rajkumar',1,10.5]\n",
    "print(list_a)\n",
    "# Assign empty index value in the list \n",
    "list_a = []\n",
    "print(list_a)"
   ]
  },
  {
   "cell_type": "code",
   "execution_count": null,
   "id": "d635ecf3",
   "metadata": {},
   "outputs": [],
   "source": [
    "# Assign string,int & float into list\n",
    "list_a = ['rajkumar',1,10.5]\n",
    "print(list_a)\n",
    "# Assign the index value from the list \n",
    "del list_a[:]\n",
    "print(list_a)"
   ]
  },
  {
   "cell_type": "code",
   "execution_count": null,
   "id": "cbb5d659",
   "metadata": {},
   "outputs": [],
   "source": [
    "# Assign string,int & float into list\n",
    "list_a = ['rajkumar',1,10.5]\n",
    "print(list_a)\n",
    "# Clear the list\n",
    "list_a.clear()\n",
    "print(list_a)"
   ]
  },
  {
   "cell_type": "markdown",
   "id": "6d84e3cb",
   "metadata": {},
   "source": [
    "## 3.\tWhat’s the result of assigning a value to a ‘keyword’?"
   ]
  },
  {
   "cell_type": "code",
   "execution_count": 5,
   "id": "7150c73d",
   "metadata": {},
   "outputs": [
    {
     "ename": "SyntaxError",
     "evalue": "invalid syntax (Temp/ipykernel_12240/2208804787.py, line 1)",
     "output_type": "error",
     "traceback": [
      "\u001b[1;36m  File \u001b[1;32m\"C:\\Users\\RAJKUMAR\\AppData\\Local\\Temp/ipykernel_12240/2208804787.py\"\u001b[1;36m, line \u001b[1;32m1\u001b[0m\n\u001b[1;33m    break = 'rajkumar'\u001b[0m\n\u001b[1;37m          ^\u001b[0m\n\u001b[1;31mSyntaxError\u001b[0m\u001b[1;31m:\u001b[0m invalid syntax\n"
     ]
    }
   ],
   "source": [
    "break = 'rajkumar'\n",
    "print(break)"
   ]
  },
  {
   "cell_type": "markdown",
   "id": "8633bfd7",
   "metadata": {},
   "source": [
    "## 4.\tHow to write a multi-line statement and assign it to a variable (Note: Without using a backslash “\\” at the end of each line)"
   ]
  },
  {
   "cell_type": "code",
   "execution_count": 1,
   "id": "1111c960",
   "metadata": {},
   "outputs": [
    {
     "name": "stdout",
     "output_type": "stream",
     "text": [
      "aa\n",
      "bb\n",
      "cc\n"
     ]
    }
   ],
   "source": [
    "# this approah is for align the multi-line statement with newline charcter\n",
    "var_name1 = '''aa\n",
    "bb\n",
    "cc'''\n",
    "print(var_name1)"
   ]
  },
  {
   "cell_type": "code",
   "execution_count": 3,
   "id": "d1b8e4a6",
   "metadata": {},
   "outputs": [
    {
     "name": "stdout",
     "output_type": "stream",
     "text": [
      "aabbcc\n"
     ]
    }
   ],
   "source": [
    "# this approch is for align the multi-line staement in single line \n",
    "var_name1 = ('aa'\n",
    "'bb'\n",
    "'cc')\n",
    "print(var_name1)"
   ]
  },
  {
   "cell_type": "code",
   "execution_count": 5,
   "id": "f8cd4b69",
   "metadata": {},
   "outputs": [
    {
     "name": "stdout",
     "output_type": "stream",
     "text": [
      "aabbcc\n"
     ]
    }
   ],
   "source": [
    "var_name1 = 'aa\\\n",
    "bb\\\n",
    "cc'\n",
    "print(var_name1)"
   ]
  },
  {
   "cell_type": "markdown",
   "id": "056e37fc",
   "metadata": {},
   "source": [
    "## 5.\tPrint the list of numbers from 100 to 999 with an interval (step size) of 8 between the numbers"
   ]
  },
  {
   "cell_type": "code",
   "execution_count": 9,
   "id": "2479ae9b",
   "metadata": {},
   "outputs": [
    {
     "data": {
      "text/plain": [
       "[100,\n",
       " 108,\n",
       " 116,\n",
       " 124,\n",
       " 132,\n",
       " 140,\n",
       " 148,\n",
       " 156,\n",
       " 164,\n",
       " 172,\n",
       " 180,\n",
       " 188,\n",
       " 196,\n",
       " 204,\n",
       " 212,\n",
       " 220,\n",
       " 228,\n",
       " 236,\n",
       " 244,\n",
       " 252,\n",
       " 260,\n",
       " 268,\n",
       " 276,\n",
       " 284,\n",
       " 292,\n",
       " 300,\n",
       " 308,\n",
       " 316,\n",
       " 324,\n",
       " 332,\n",
       " 340,\n",
       " 348,\n",
       " 356,\n",
       " 364,\n",
       " 372,\n",
       " 380,\n",
       " 388,\n",
       " 396,\n",
       " 404,\n",
       " 412,\n",
       " 420,\n",
       " 428,\n",
       " 436,\n",
       " 444,\n",
       " 452,\n",
       " 460,\n",
       " 468,\n",
       " 476,\n",
       " 484,\n",
       " 492,\n",
       " 500,\n",
       " 508,\n",
       " 516,\n",
       " 524,\n",
       " 532,\n",
       " 540,\n",
       " 548,\n",
       " 556,\n",
       " 564,\n",
       " 572,\n",
       " 580,\n",
       " 588,\n",
       " 596,\n",
       " 604,\n",
       " 612,\n",
       " 620,\n",
       " 628,\n",
       " 636,\n",
       " 644,\n",
       " 652,\n",
       " 660,\n",
       " 668,\n",
       " 676,\n",
       " 684,\n",
       " 692,\n",
       " 700,\n",
       " 708,\n",
       " 716,\n",
       " 724,\n",
       " 732,\n",
       " 740,\n",
       " 748,\n",
       " 756,\n",
       " 764,\n",
       " 772,\n",
       " 780,\n",
       " 788,\n",
       " 796,\n",
       " 804,\n",
       " 812,\n",
       " 820,\n",
       " 828,\n",
       " 836,\n",
       " 844,\n",
       " 852,\n",
       " 860,\n",
       " 868,\n",
       " 876,\n",
       " 884,\n",
       " 892,\n",
       " 900,\n",
       " 908,\n",
       " 916,\n",
       " 924,\n",
       " 932,\n",
       " 940,\n",
       " 948,\n",
       " 956,\n",
       " 964,\n",
       " 972,\n",
       " 980,\n",
       " 988,\n",
       " 996]"
      ]
     },
     "execution_count": 9,
     "metadata": {},
     "output_type": "execute_result"
    }
   ],
   "source": [
    "list(range(100,999,8))"
   ]
  },
  {
   "cell_type": "code",
   "execution_count": 7,
   "id": "356f569a",
   "metadata": {},
   "outputs": [
    {
     "name": "stdout",
     "output_type": "stream",
     "text": [
      "100\n",
      "108\n",
      "116\n",
      "124\n",
      "132\n",
      "140\n",
      "148\n",
      "156\n",
      "164\n",
      "172\n",
      "180\n",
      "188\n",
      "196\n",
      "204\n",
      "212\n",
      "220\n",
      "228\n",
      "236\n",
      "244\n",
      "252\n",
      "260\n",
      "268\n",
      "276\n",
      "284\n",
      "292\n",
      "300\n",
      "308\n",
      "316\n",
      "324\n",
      "332\n",
      "340\n",
      "348\n",
      "356\n",
      "364\n",
      "372\n",
      "380\n",
      "388\n",
      "396\n",
      "404\n",
      "412\n",
      "420\n",
      "428\n",
      "436\n",
      "444\n",
      "452\n",
      "460\n",
      "468\n",
      "476\n",
      "484\n",
      "492\n",
      "500\n",
      "508\n",
      "516\n",
      "524\n",
      "532\n",
      "540\n",
      "548\n",
      "556\n",
      "564\n",
      "572\n",
      "580\n",
      "588\n",
      "596\n",
      "604\n",
      "612\n",
      "620\n",
      "628\n",
      "636\n",
      "644\n",
      "652\n",
      "660\n",
      "668\n",
      "676\n",
      "684\n",
      "692\n",
      "700\n",
      "708\n",
      "716\n",
      "724\n",
      "732\n",
      "740\n",
      "748\n",
      "756\n",
      "764\n",
      "772\n",
      "780\n",
      "788\n",
      "796\n",
      "804\n",
      "812\n",
      "820\n",
      "828\n",
      "836\n",
      "844\n",
      "852\n",
      "860\n",
      "868\n",
      "876\n",
      "884\n",
      "892\n",
      "900\n",
      "908\n",
      "916\n",
      "924\n",
      "932\n",
      "940\n",
      "948\n",
      "956\n",
      "964\n",
      "972\n",
      "980\n",
      "988\n",
      "996\n"
     ]
    }
   ],
   "source": [
    "for i in range(100,999,8):\n",
    "    print(i)"
   ]
  },
  {
   "cell_type": "markdown",
   "id": "9dc5e9a5",
   "metadata": {},
   "source": [
    "## 6.\tWrite a “for” loop to print out the ‘n’ values and break out of the statement if the value is ‘n/2’"
   ]
  },
  {
   "cell_type": "code",
   "execution_count": 61,
   "id": "ced57301",
   "metadata": {},
   "outputs": [
    {
     "name": "stdout",
     "output_type": "stream",
     "text": [
      "10\n",
      "20\n",
      "30\n"
     ]
    }
   ],
   "source": [
    "n = [10,20,30,40,50,60]\n",
    "l_n = round(len(n) / 2)\n",
    "new_list = n[:l_n]\n",
    "#print(l_n)\n",
    "for i in new_list:\n",
    "    print(i)       "
   ]
  },
  {
   "cell_type": "markdown",
   "id": "3001b4d8",
   "metadata": {},
   "source": [
    "## 7.\tWrite a simple function and call the docstring from outside the function"
   ]
  },
  {
   "cell_type": "code",
   "execution_count": 65,
   "id": "b1d46cae",
   "metadata": {},
   "outputs": [],
   "source": [
    "def Square_Val(a):\n",
    "    '''This function is used to square the input value'''\n",
    "    return a * a"
   ]
  },
  {
   "cell_type": "code",
   "execution_count": 68,
   "id": "824d8741",
   "metadata": {},
   "outputs": [
    {
     "name": "stdout",
     "output_type": "stream",
     "text": [
      "This function is used to square the input value\n"
     ]
    },
    {
     "data": {
      "text/plain": [
       "100"
      ]
     },
     "execution_count": 68,
     "metadata": {},
     "output_type": "execute_result"
    }
   ],
   "source": [
    "print(Square_Val.__doc__)\n",
    "Square_Val(10)"
   ]
  },
  {
   "cell_type": "markdown",
   "id": "d02a5a3f",
   "metadata": {},
   "source": [
    "## 8.\tCreate a user-defined package in ‘site-packages’ with below 3 variables a, b and c. Import these variables and write a function to calculate the area of triangle for below 3 sides (a, b, c). Calculate the semi-perimeter (s) first, to calculate the area of triangle (area) at last\n",
    "### <<Formula to calculate semi-perimeter: s = (a+b+c )/2>>\n",
    "#### <<Formula to calculatearea = (s*(s-a)*(s-b)*(s-c)) ** 0.5>>\n",
    "#### a.\t15\n",
    "#### b.\t51\n",
    "#### c.\t17\n"
   ]
  },
  {
   "cell_type": "code",
   "execution_count": 69,
   "id": "e283f5d6",
   "metadata": {},
   "outputs": [],
   "source": [
    "from my_sample_pkg import testpackage"
   ]
  },
  {
   "cell_type": "code",
   "execution_count": 147,
   "id": "1194a107",
   "metadata": {},
   "outputs": [],
   "source": [
    "a = testpackage.a\n",
    "b = testpackage.b\n",
    "c = testpackage.c\n",
    "def Calc_Area_Triangle():\n",
    "    '''Calculate the Semi-Perimeter s=(a+b+c)/2 and Calculate the Area a = (s(s-a)(s-b)(s-c)) * 0.5'''    \n",
    "    s= float((a + b + c)/2)\n",
    "    area = (s*(s-a)*(s-b)*(s-c)) * 0.5\n",
    "    return s,area             "
   ]
  },
  {
   "cell_type": "code",
   "execution_count": 148,
   "id": "37580f70",
   "metadata": {},
   "outputs": [
    {
     "data": {
      "text/plain": [
       "(41.5, -127983.40625)"
      ]
     },
     "execution_count": 148,
     "metadata": {},
     "output_type": "execute_result"
    }
   ],
   "source": [
    "Calc_Area_Triangle()"
   ]
  },
  {
   "cell_type": "markdown",
   "id": "0ed28a47",
   "metadata": {},
   "source": [
    "## 9.\tWrite a list comprehension to print the odd numbers from 0 to 100"
   ]
  },
  {
   "cell_type": "code",
   "execution_count": 155,
   "id": "717ebe4e",
   "metadata": {},
   "outputs": [
    {
     "data": {
      "text/plain": [
       "[1,\n",
       " 3,\n",
       " 5,\n",
       " 7,\n",
       " 9,\n",
       " 11,\n",
       " 13,\n",
       " 15,\n",
       " 17,\n",
       " 19,\n",
       " 21,\n",
       " 23,\n",
       " 25,\n",
       " 27,\n",
       " 29,\n",
       " 31,\n",
       " 33,\n",
       " 35,\n",
       " 37,\n",
       " 39,\n",
       " 41,\n",
       " 43,\n",
       " 45,\n",
       " 47,\n",
       " 49,\n",
       " 51,\n",
       " 53,\n",
       " 55,\n",
       " 57,\n",
       " 59,\n",
       " 61,\n",
       " 63,\n",
       " 65,\n",
       " 67,\n",
       " 69,\n",
       " 71,\n",
       " 73,\n",
       " 75,\n",
       " 77,\n",
       " 79,\n",
       " 81,\n",
       " 83,\n",
       " 85,\n",
       " 87,\n",
       " 89,\n",
       " 91,\n",
       " 93,\n",
       " 95,\n",
       " 97,\n",
       " 99]"
      ]
     },
     "execution_count": 155,
     "metadata": {},
     "output_type": "execute_result"
    }
   ],
   "source": [
    "[a for a in range(0,100) if a % 2 == 1]"
   ]
  },
  {
   "cell_type": "markdown",
   "id": "80abdda9",
   "metadata": {},
   "source": [
    "## 10.\t Create a variable (ex: name) and store your full name in it. Then write a list comprehension to print your name excluding vowels (a, e, i, o, u)"
   ]
  },
  {
   "cell_type": "code",
   "execution_count": 159,
   "id": "57e8768e",
   "metadata": {},
   "outputs": [
    {
     "data": {
      "text/plain": [
       "['r', 'j', 'k', 'm', 'r']"
      ]
     },
     "execution_count": 159,
     "metadata": {},
     "output_type": "execute_result"
    }
   ],
   "source": [
    "name = 'rajkumar'\n",
    "[a for a in name if a not in ('a','e','i','o','u')]"
   ]
  },
  {
   "cell_type": "code",
   "execution_count": null,
   "id": "006a2c22",
   "metadata": {},
   "outputs": [],
   "source": []
  },
  {
   "cell_type": "code",
   "execution_count": null,
   "id": "3a078c44",
   "metadata": {},
   "outputs": [],
   "source": []
  },
  {
   "cell_type": "code",
   "execution_count": null,
   "id": "89335be5",
   "metadata": {},
   "outputs": [],
   "source": []
  },
  {
   "cell_type": "code",
   "execution_count": null,
   "id": "e79c999c",
   "metadata": {},
   "outputs": [],
   "source": []
  },
  {
   "cell_type": "code",
   "execution_count": null,
   "id": "9aaa39e6",
   "metadata": {},
   "outputs": [],
   "source": []
  },
  {
   "cell_type": "code",
   "execution_count": null,
   "id": "ea59919d",
   "metadata": {},
   "outputs": [],
   "source": []
  },
  {
   "cell_type": "code",
   "execution_count": null,
   "id": "e207e499",
   "metadata": {},
   "outputs": [],
   "source": []
  },
  {
   "cell_type": "code",
   "execution_count": null,
   "id": "ec2d297b",
   "metadata": {},
   "outputs": [],
   "source": []
  },
  {
   "cell_type": "code",
   "execution_count": null,
   "id": "310cebbc",
   "metadata": {},
   "outputs": [],
   "source": []
  },
  {
   "cell_type": "code",
   "execution_count": null,
   "id": "1f9121f0",
   "metadata": {},
   "outputs": [],
   "source": []
  }
 ],
 "metadata": {
  "kernelspec": {
   "display_name": "Python 3 (ipykernel)",
   "language": "python",
   "name": "python3"
  },
  "language_info": {
   "codemirror_mode": {
    "name": "ipython",
    "version": 3
   },
   "file_extension": ".py",
   "mimetype": "text/x-python",
   "name": "python",
   "nbconvert_exporter": "python",
   "pygments_lexer": "ipython3",
   "version": "3.9.7"
  }
 },
 "nbformat": 4,
 "nbformat_minor": 5
}
