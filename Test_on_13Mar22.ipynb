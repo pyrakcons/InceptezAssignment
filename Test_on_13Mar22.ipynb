{
 "cells": [
  {
   "cell_type": "markdown",
   "id": "8b6d1aa7",
   "metadata": {},
   "source": [
    "### Create a program that asks the user to enter their name and their age. Print out a message that tells them the year that they will turn 100 years old"
   ]
  },
  {
   "cell_type": "code",
   "execution_count": 12,
   "id": "5622f3b4",
   "metadata": {},
   "outputs": [],
   "source": [
    "from datetime import date\n",
    "import pandas as pd\n",
    "import numpy as np"
   ]
  },
  {
   "cell_type": "code",
   "execution_count": 10,
   "id": "9074e7ec",
   "metadata": {},
   "outputs": [
    {
     "name": "stdout",
     "output_type": "stream",
     "text": [
      "Enter Your Name and age separed by SPACEraj 33\n",
      "raj You will reach in the 2089 to reach 100 years old\n"
     ]
    }
   ],
   "source": [
    "name,age = input('Enter Your Name and age separed by SPACE').split()\n",
    "todays_date = date.today()\n",
    "year = todays_date.year + (100-int(age))\n",
    "print(f'{name} You will reach in the {year} to reach 100 years old')\n"
   ]
  },
  {
   "cell_type": "markdown",
   "id": "fc75fe34",
   "metadata": {},
   "source": [
    "### 2.What is pandas groupby? Demonstrate with your own example"
   ]
  },
  {
   "cell_type": "code",
   "execution_count": 13,
   "id": "c4ddd847",
   "metadata": {},
   "outputs": [],
   "source": [
    "pdlist2 = pd.DataFrame([[25,'Black','SW',1],\n",
    "                        [30,'Black','NW',1],\n",
    "                        [45,'Red','NE',1],\n",
    "                        [35,'Blond','SW',0],\n",
    "                        [33,'Brown','SW',0],\n",
    "                        [35,'Brown','NE',0],\n",
    "                        [25,'Black','SW',0],\n",
    "                        [52,'Brown','SE',0],\n",
    "                        [21,'Blond','SW',1],\n",
    "                        [24,'Blond','NE',0],\n",
    "                        [48,'Black','SW',1],\n",
    "                        [22,'Black','SW',0],\n",
    "                        [27,'Brown','NE',0],\n",
    "                        [28,'Black','SE',1],\n",
    "                        [21,'Blond','SE',1],\n",
    "                        [51,'Black','NW',0],\n",
    "                        [23,'Brown','SE',1],                        \n",
    "                       ]\n",
    "                       ,columns =['AGE','HAIR COLOR','US REGION','VALIDATION'] )"
   ]
  },
  {
   "cell_type": "code",
   "execution_count": 16,
   "id": "06f4e131",
   "metadata": {},
   "outputs": [
    {
     "data": {
      "text/plain": [
       "US REGION\n",
       "NE    4\n",
       "NW    2\n",
       "SE    4\n",
       "SW    7\n",
       "Name: AGE, dtype: int64"
      ]
     },
     "execution_count": 16,
     "metadata": {},
     "output_type": "execute_result"
    }
   ],
   "source": [
    "pdlist2.groupby(['US REGION'])['AGE'].count()"
   ]
  },
  {
   "cell_type": "markdown",
   "id": "ca3fc4bb",
   "metadata": {},
   "source": [
    "### 3. How to create a dataframe from list?"
   ]
  },
  {
   "cell_type": "code",
   "execution_count": 18,
   "id": "b6717222",
   "metadata": {},
   "outputs": [
    {
     "data": {
      "text/html": [
       "<div>\n",
       "<style scoped>\n",
       "    .dataframe tbody tr th:only-of-type {\n",
       "        vertical-align: middle;\n",
       "    }\n",
       "\n",
       "    .dataframe tbody tr th {\n",
       "        vertical-align: top;\n",
       "    }\n",
       "\n",
       "    .dataframe thead th {\n",
       "        text-align: right;\n",
       "    }\n",
       "</style>\n",
       "<table border=\"1\" class=\"dataframe\">\n",
       "  <thead>\n",
       "    <tr style=\"text-align: right;\">\n",
       "      <th></th>\n",
       "      <th>SLNO</th>\n",
       "      <th>EMP ID</th>\n",
       "      <th>NAME</th>\n",
       "      <th>AGE</th>\n",
       "      <th>DESIG</th>\n",
       "      <th>CON NUMBER</th>\n",
       "      <th>MAIL ID</th>\n",
       "      <th>GENDER</th>\n",
       "    </tr>\n",
       "  </thead>\n",
       "  <tbody>\n",
       "    <tr>\n",
       "      <th>0</th>\n",
       "      <td>1</td>\n",
       "      <td>20221</td>\n",
       "      <td>raj</td>\n",
       "      <td>33</td>\n",
       "      <td>s.devloper</td>\n",
       "      <td>12345</td>\n",
       "      <td>rajgg.xx.com</td>\n",
       "      <td>M</td>\n",
       "    </tr>\n",
       "    <tr>\n",
       "      <th>1</th>\n",
       "      <td>2</td>\n",
       "      <td>20222</td>\n",
       "      <td>tom</td>\n",
       "      <td>34</td>\n",
       "      <td>s.devloper</td>\n",
       "      <td>12346</td>\n",
       "      <td>tomgg.xx.com</td>\n",
       "      <td>M</td>\n",
       "    </tr>\n",
       "    <tr>\n",
       "      <th>2</th>\n",
       "      <td>3</td>\n",
       "      <td>20223</td>\n",
       "      <td>jack</td>\n",
       "      <td>30</td>\n",
       "      <td>devloper</td>\n",
       "      <td>123456</td>\n",
       "      <td>jackgg.xx.com</td>\n",
       "      <td>M</td>\n",
       "    </tr>\n",
       "    <tr>\n",
       "      <th>3</th>\n",
       "      <td>4</td>\n",
       "      <td>20224</td>\n",
       "      <td>Jessy</td>\n",
       "      <td>28</td>\n",
       "      <td>s.devloper</td>\n",
       "      <td>1234</td>\n",
       "      <td>jesmgg.xx.com</td>\n",
       "      <td>F</td>\n",
       "    </tr>\n",
       "  </tbody>\n",
       "</table>\n",
       "</div>"
      ],
      "text/plain": [
       "   SLNO  EMP ID   NAME AGE       DESIG  CON NUMBER        MAIL ID GENDER\n",
       "0     1   20221    raj  33  s.devloper       12345   rajgg.xx.com      M\n",
       "1     2   20222    tom  34  s.devloper       12346   tomgg.xx.com      M\n",
       "2     3   20223   jack  30    devloper      123456  jackgg.xx.com      M\n",
       "3     4   20224  Jessy  28  s.devloper        1234  jesmgg.xx.com      F"
      ]
     },
     "execution_count": 18,
     "metadata": {},
     "output_type": "execute_result"
    }
   ],
   "source": [
    "list2 = [[1,20221,'raj','33','s.devloper',12345,'rajgg.xx.com','M'],\n",
    "         [2,20222,'tom','34','s.devloper',12346,'tomgg.xx.com','M'],\n",
    "         [3,20223,'jack','30','devloper',123456,'jackgg.xx.com','M'],\n",
    "         [4,20224,'Jessy','28','s.devloper',1234,'jesmgg.xx.com','F']]\n",
    "pdlist1 = pd.DataFrame(list2,columns =['SLNO','EMP ID','NAME','AGE','DESIG','CON NUMBER','MAIL ID','GENDER'] )\n",
    "pdlist1"
   ]
  },
  {
   "cell_type": "markdown",
   "id": "c1e93bc3",
   "metadata": {},
   "source": [
    "### 4. What are the ways to combine the dataframe in pandas. Give an example for each"
   ]
  },
  {
   "cell_type": "code",
   "execution_count": null,
   "id": "7e753d28",
   "metadata": {},
   "outputs": [],
   "source": [
    "# M1 : Merge : on,left_on,right_on, how\n",
    "#m2 : Concat : rowwise and column wise (axis=1)"
   ]
  },
  {
   "cell_type": "code",
   "execution_count": 46,
   "id": "3be14d42",
   "metadata": {},
   "outputs": [],
   "source": [
    "pdlist2 = pd.DataFrame([[25,'Black','SW',1],\n",
    "                        [30,'Black','NW',1],\n",
    "                        [45,'Red','NE',1],\n",
    "                        [35,'Blond','SW',0],\n",
    "                        [33,'Brown','SW',0],\n",
    "                        [35,'Brown','NE',0],\n",
    "                        [25,'Black','SW',0],\n",
    "                        [52,'Brown','SE',0],\n",
    "                        [21,'Blond','SW',1],\n",
    "                        [24,'Blond','NE',0],\n",
    "                        [48,'Black','SW',1],\n",
    "                        [22,'Black','SW',0],\n",
    "                        [27,'Brown','NE',0],\n",
    "                        [28,'Black','SE',1],\n",
    "                        [21,'Blond','SE',1],\n",
    "                        [51,'Black','NW',0],\n",
    "                        [23,'Brown','SE',1],                        \n",
    "                       ]\n",
    "                       ,columns =['AGE','HAIR COLOR','US REGION','VALIDATION'] )"
   ]
  },
  {
   "cell_type": "code",
   "execution_count": 53,
   "id": "c9872609",
   "metadata": {},
   "outputs": [],
   "source": [
    "pdlist3 = pdlist2.iloc[:10]\n",
    "pdlist4 = pdlist2.iloc[10:]"
   ]
  },
  {
   "cell_type": "code",
   "execution_count": 50,
   "id": "0c4d418c",
   "metadata": {},
   "outputs": [
    {
     "data": {
      "text/html": [
       "<div>\n",
       "<style scoped>\n",
       "    .dataframe tbody tr th:only-of-type {\n",
       "        vertical-align: middle;\n",
       "    }\n",
       "\n",
       "    .dataframe tbody tr th {\n",
       "        vertical-align: top;\n",
       "    }\n",
       "\n",
       "    .dataframe thead th {\n",
       "        text-align: right;\n",
       "    }\n",
       "</style>\n",
       "<table border=\"1\" class=\"dataframe\">\n",
       "  <thead>\n",
       "    <tr style=\"text-align: right;\">\n",
       "      <th></th>\n",
       "      <th>AGE</th>\n",
       "      <th>HAIR COLOR</th>\n",
       "      <th>US REGION</th>\n",
       "      <th>VALIDATION</th>\n",
       "    </tr>\n",
       "  </thead>\n",
       "  <tbody>\n",
       "    <tr>\n",
       "      <th>0</th>\n",
       "      <td>25</td>\n",
       "      <td>Black</td>\n",
       "      <td>SW</td>\n",
       "      <td>1</td>\n",
       "    </tr>\n",
       "    <tr>\n",
       "      <th>1</th>\n",
       "      <td>30</td>\n",
       "      <td>Black</td>\n",
       "      <td>NW</td>\n",
       "      <td>1</td>\n",
       "    </tr>\n",
       "    <tr>\n",
       "      <th>2</th>\n",
       "      <td>45</td>\n",
       "      <td>Red</td>\n",
       "      <td>NE</td>\n",
       "      <td>1</td>\n",
       "    </tr>\n",
       "    <tr>\n",
       "      <th>3</th>\n",
       "      <td>35</td>\n",
       "      <td>Blond</td>\n",
       "      <td>SW</td>\n",
       "      <td>0</td>\n",
       "    </tr>\n",
       "    <tr>\n",
       "      <th>4</th>\n",
       "      <td>33</td>\n",
       "      <td>Brown</td>\n",
       "      <td>SW</td>\n",
       "      <td>0</td>\n",
       "    </tr>\n",
       "    <tr>\n",
       "      <th>5</th>\n",
       "      <td>35</td>\n",
       "      <td>Brown</td>\n",
       "      <td>NE</td>\n",
       "      <td>0</td>\n",
       "    </tr>\n",
       "    <tr>\n",
       "      <th>6</th>\n",
       "      <td>25</td>\n",
       "      <td>Black</td>\n",
       "      <td>SW</td>\n",
       "      <td>0</td>\n",
       "    </tr>\n",
       "    <tr>\n",
       "      <th>7</th>\n",
       "      <td>52</td>\n",
       "      <td>Brown</td>\n",
       "      <td>SE</td>\n",
       "      <td>0</td>\n",
       "    </tr>\n",
       "    <tr>\n",
       "      <th>8</th>\n",
       "      <td>21</td>\n",
       "      <td>Blond</td>\n",
       "      <td>SW</td>\n",
       "      <td>1</td>\n",
       "    </tr>\n",
       "    <tr>\n",
       "      <th>9</th>\n",
       "      <td>24</td>\n",
       "      <td>Blond</td>\n",
       "      <td>NE</td>\n",
       "      <td>0</td>\n",
       "    </tr>\n",
       "  </tbody>\n",
       "</table>\n",
       "</div>"
      ],
      "text/plain": [
       "   AGE HAIR COLOR US REGION  VALIDATION\n",
       "0   25      Black        SW           1\n",
       "1   30      Black        NW           1\n",
       "2   45        Red        NE           1\n",
       "3   35      Blond        SW           0\n",
       "4   33      Brown        SW           0\n",
       "5   35      Brown        NE           0\n",
       "6   25      Black        SW           0\n",
       "7   52      Brown        SE           0\n",
       "8   21      Blond        SW           1\n",
       "9   24      Blond        NE           0"
      ]
     },
     "execution_count": 50,
     "metadata": {},
     "output_type": "execute_result"
    }
   ],
   "source": [
    "pdlist3"
   ]
  },
  {
   "cell_type": "code",
   "execution_count": 54,
   "id": "1fb7c58d",
   "metadata": {},
   "outputs": [
    {
     "data": {
      "text/html": [
       "<div>\n",
       "<style scoped>\n",
       "    .dataframe tbody tr th:only-of-type {\n",
       "        vertical-align: middle;\n",
       "    }\n",
       "\n",
       "    .dataframe tbody tr th {\n",
       "        vertical-align: top;\n",
       "    }\n",
       "\n",
       "    .dataframe thead th {\n",
       "        text-align: right;\n",
       "    }\n",
       "</style>\n",
       "<table border=\"1\" class=\"dataframe\">\n",
       "  <thead>\n",
       "    <tr style=\"text-align: right;\">\n",
       "      <th></th>\n",
       "      <th>AGE</th>\n",
       "      <th>HAIR COLOR</th>\n",
       "      <th>US REGION</th>\n",
       "      <th>VALIDATION</th>\n",
       "    </tr>\n",
       "  </thead>\n",
       "  <tbody>\n",
       "    <tr>\n",
       "      <th>10</th>\n",
       "      <td>48</td>\n",
       "      <td>Black</td>\n",
       "      <td>SW</td>\n",
       "      <td>1</td>\n",
       "    </tr>\n",
       "    <tr>\n",
       "      <th>11</th>\n",
       "      <td>22</td>\n",
       "      <td>Black</td>\n",
       "      <td>SW</td>\n",
       "      <td>0</td>\n",
       "    </tr>\n",
       "    <tr>\n",
       "      <th>12</th>\n",
       "      <td>27</td>\n",
       "      <td>Brown</td>\n",
       "      <td>NE</td>\n",
       "      <td>0</td>\n",
       "    </tr>\n",
       "    <tr>\n",
       "      <th>13</th>\n",
       "      <td>28</td>\n",
       "      <td>Black</td>\n",
       "      <td>SE</td>\n",
       "      <td>1</td>\n",
       "    </tr>\n",
       "    <tr>\n",
       "      <th>14</th>\n",
       "      <td>21</td>\n",
       "      <td>Blond</td>\n",
       "      <td>SE</td>\n",
       "      <td>1</td>\n",
       "    </tr>\n",
       "    <tr>\n",
       "      <th>15</th>\n",
       "      <td>51</td>\n",
       "      <td>Black</td>\n",
       "      <td>NW</td>\n",
       "      <td>0</td>\n",
       "    </tr>\n",
       "    <tr>\n",
       "      <th>16</th>\n",
       "      <td>23</td>\n",
       "      <td>Brown</td>\n",
       "      <td>SE</td>\n",
       "      <td>1</td>\n",
       "    </tr>\n",
       "  </tbody>\n",
       "</table>\n",
       "</div>"
      ],
      "text/plain": [
       "    AGE HAIR COLOR US REGION  VALIDATION\n",
       "10   48      Black        SW           1\n",
       "11   22      Black        SW           0\n",
       "12   27      Brown        NE           0\n",
       "13   28      Black        SE           1\n",
       "14   21      Blond        SE           1\n",
       "15   51      Black        NW           0\n",
       "16   23      Brown        SE           1"
      ]
     },
     "execution_count": 54,
     "metadata": {},
     "output_type": "execute_result"
    }
   ],
   "source": [
    "pdlist4"
   ]
  },
  {
   "cell_type": "code",
   "execution_count": 56,
   "id": "764af7be",
   "metadata": {},
   "outputs": [
    {
     "data": {
      "text/html": [
       "<div>\n",
       "<style scoped>\n",
       "    .dataframe tbody tr th:only-of-type {\n",
       "        vertical-align: middle;\n",
       "    }\n",
       "\n",
       "    .dataframe tbody tr th {\n",
       "        vertical-align: top;\n",
       "    }\n",
       "\n",
       "    .dataframe thead th {\n",
       "        text-align: right;\n",
       "    }\n",
       "</style>\n",
       "<table border=\"1\" class=\"dataframe\">\n",
       "  <thead>\n",
       "    <tr style=\"text-align: right;\">\n",
       "      <th></th>\n",
       "      <th>AGE_x</th>\n",
       "      <th>HAIR COLOR_x</th>\n",
       "      <th>US REGION</th>\n",
       "      <th>VALIDATION_x</th>\n",
       "      <th>AGE_y</th>\n",
       "      <th>HAIR COLOR_y</th>\n",
       "      <th>VALIDATION_y</th>\n",
       "    </tr>\n",
       "  </thead>\n",
       "  <tbody>\n",
       "    <tr>\n",
       "      <th>0</th>\n",
       "      <td>25</td>\n",
       "      <td>Black</td>\n",
       "      <td>SW</td>\n",
       "      <td>1</td>\n",
       "      <td>48</td>\n",
       "      <td>Black</td>\n",
       "      <td>1</td>\n",
       "    </tr>\n",
       "    <tr>\n",
       "      <th>1</th>\n",
       "      <td>25</td>\n",
       "      <td>Black</td>\n",
       "      <td>SW</td>\n",
       "      <td>1</td>\n",
       "      <td>22</td>\n",
       "      <td>Black</td>\n",
       "      <td>0</td>\n",
       "    </tr>\n",
       "    <tr>\n",
       "      <th>2</th>\n",
       "      <td>35</td>\n",
       "      <td>Blond</td>\n",
       "      <td>SW</td>\n",
       "      <td>0</td>\n",
       "      <td>48</td>\n",
       "      <td>Black</td>\n",
       "      <td>1</td>\n",
       "    </tr>\n",
       "    <tr>\n",
       "      <th>3</th>\n",
       "      <td>35</td>\n",
       "      <td>Blond</td>\n",
       "      <td>SW</td>\n",
       "      <td>0</td>\n",
       "      <td>22</td>\n",
       "      <td>Black</td>\n",
       "      <td>0</td>\n",
       "    </tr>\n",
       "    <tr>\n",
       "      <th>4</th>\n",
       "      <td>33</td>\n",
       "      <td>Brown</td>\n",
       "      <td>SW</td>\n",
       "      <td>0</td>\n",
       "      <td>48</td>\n",
       "      <td>Black</td>\n",
       "      <td>1</td>\n",
       "    </tr>\n",
       "    <tr>\n",
       "      <th>5</th>\n",
       "      <td>33</td>\n",
       "      <td>Brown</td>\n",
       "      <td>SW</td>\n",
       "      <td>0</td>\n",
       "      <td>22</td>\n",
       "      <td>Black</td>\n",
       "      <td>0</td>\n",
       "    </tr>\n",
       "    <tr>\n",
       "      <th>6</th>\n",
       "      <td>25</td>\n",
       "      <td>Black</td>\n",
       "      <td>SW</td>\n",
       "      <td>0</td>\n",
       "      <td>48</td>\n",
       "      <td>Black</td>\n",
       "      <td>1</td>\n",
       "    </tr>\n",
       "    <tr>\n",
       "      <th>7</th>\n",
       "      <td>25</td>\n",
       "      <td>Black</td>\n",
       "      <td>SW</td>\n",
       "      <td>0</td>\n",
       "      <td>22</td>\n",
       "      <td>Black</td>\n",
       "      <td>0</td>\n",
       "    </tr>\n",
       "    <tr>\n",
       "      <th>8</th>\n",
       "      <td>21</td>\n",
       "      <td>Blond</td>\n",
       "      <td>SW</td>\n",
       "      <td>1</td>\n",
       "      <td>48</td>\n",
       "      <td>Black</td>\n",
       "      <td>1</td>\n",
       "    </tr>\n",
       "    <tr>\n",
       "      <th>9</th>\n",
       "      <td>21</td>\n",
       "      <td>Blond</td>\n",
       "      <td>SW</td>\n",
       "      <td>1</td>\n",
       "      <td>22</td>\n",
       "      <td>Black</td>\n",
       "      <td>0</td>\n",
       "    </tr>\n",
       "    <tr>\n",
       "      <th>10</th>\n",
       "      <td>30</td>\n",
       "      <td>Black</td>\n",
       "      <td>NW</td>\n",
       "      <td>1</td>\n",
       "      <td>51</td>\n",
       "      <td>Black</td>\n",
       "      <td>0</td>\n",
       "    </tr>\n",
       "    <tr>\n",
       "      <th>11</th>\n",
       "      <td>45</td>\n",
       "      <td>Red</td>\n",
       "      <td>NE</td>\n",
       "      <td>1</td>\n",
       "      <td>27</td>\n",
       "      <td>Brown</td>\n",
       "      <td>0</td>\n",
       "    </tr>\n",
       "    <tr>\n",
       "      <th>12</th>\n",
       "      <td>35</td>\n",
       "      <td>Brown</td>\n",
       "      <td>NE</td>\n",
       "      <td>0</td>\n",
       "      <td>27</td>\n",
       "      <td>Brown</td>\n",
       "      <td>0</td>\n",
       "    </tr>\n",
       "    <tr>\n",
       "      <th>13</th>\n",
       "      <td>24</td>\n",
       "      <td>Blond</td>\n",
       "      <td>NE</td>\n",
       "      <td>0</td>\n",
       "      <td>27</td>\n",
       "      <td>Brown</td>\n",
       "      <td>0</td>\n",
       "    </tr>\n",
       "    <tr>\n",
       "      <th>14</th>\n",
       "      <td>52</td>\n",
       "      <td>Brown</td>\n",
       "      <td>SE</td>\n",
       "      <td>0</td>\n",
       "      <td>28</td>\n",
       "      <td>Black</td>\n",
       "      <td>1</td>\n",
       "    </tr>\n",
       "    <tr>\n",
       "      <th>15</th>\n",
       "      <td>52</td>\n",
       "      <td>Brown</td>\n",
       "      <td>SE</td>\n",
       "      <td>0</td>\n",
       "      <td>21</td>\n",
       "      <td>Blond</td>\n",
       "      <td>1</td>\n",
       "    </tr>\n",
       "    <tr>\n",
       "      <th>16</th>\n",
       "      <td>52</td>\n",
       "      <td>Brown</td>\n",
       "      <td>SE</td>\n",
       "      <td>0</td>\n",
       "      <td>23</td>\n",
       "      <td>Brown</td>\n",
       "      <td>1</td>\n",
       "    </tr>\n",
       "  </tbody>\n",
       "</table>\n",
       "</div>"
      ],
      "text/plain": [
       "    AGE_x HAIR COLOR_x US REGION  VALIDATION_x  AGE_y HAIR COLOR_y  \\\n",
       "0      25        Black        SW             1     48        Black   \n",
       "1      25        Black        SW             1     22        Black   \n",
       "2      35        Blond        SW             0     48        Black   \n",
       "3      35        Blond        SW             0     22        Black   \n",
       "4      33        Brown        SW             0     48        Black   \n",
       "5      33        Brown        SW             0     22        Black   \n",
       "6      25        Black        SW             0     48        Black   \n",
       "7      25        Black        SW             0     22        Black   \n",
       "8      21        Blond        SW             1     48        Black   \n",
       "9      21        Blond        SW             1     22        Black   \n",
       "10     30        Black        NW             1     51        Black   \n",
       "11     45          Red        NE             1     27        Brown   \n",
       "12     35        Brown        NE             0     27        Brown   \n",
       "13     24        Blond        NE             0     27        Brown   \n",
       "14     52        Brown        SE             0     28        Black   \n",
       "15     52        Brown        SE             0     21        Blond   \n",
       "16     52        Brown        SE             0     23        Brown   \n",
       "\n",
       "    VALIDATION_y  \n",
       "0              1  \n",
       "1              0  \n",
       "2              1  \n",
       "3              0  \n",
       "4              1  \n",
       "5              0  \n",
       "6              1  \n",
       "7              0  \n",
       "8              1  \n",
       "9              0  \n",
       "10             0  \n",
       "11             0  \n",
       "12             0  \n",
       "13             0  \n",
       "14             1  \n",
       "15             1  \n",
       "16             1  "
      ]
     },
     "execution_count": 56,
     "metadata": {},
     "output_type": "execute_result"
    }
   ],
   "source": [
    "pd.merge(pdlist3, pdlist4, on='US REGION')"
   ]
  },
  {
   "cell_type": "code",
   "execution_count": 57,
   "id": "dda7c1b7",
   "metadata": {},
   "outputs": [
    {
     "data": {
      "text/html": [
       "<div>\n",
       "<style scoped>\n",
       "    .dataframe tbody tr th:only-of-type {\n",
       "        vertical-align: middle;\n",
       "    }\n",
       "\n",
       "    .dataframe tbody tr th {\n",
       "        vertical-align: top;\n",
       "    }\n",
       "\n",
       "    .dataframe thead th {\n",
       "        text-align: right;\n",
       "    }\n",
       "</style>\n",
       "<table border=\"1\" class=\"dataframe\">\n",
       "  <thead>\n",
       "    <tr style=\"text-align: right;\">\n",
       "      <th></th>\n",
       "      <th>AGE</th>\n",
       "      <th>HAIR COLOR</th>\n",
       "      <th>US REGION</th>\n",
       "      <th>VALIDATION</th>\n",
       "    </tr>\n",
       "  </thead>\n",
       "  <tbody>\n",
       "    <tr>\n",
       "      <th>0</th>\n",
       "      <td>25</td>\n",
       "      <td>Black</td>\n",
       "      <td>SW</td>\n",
       "      <td>1</td>\n",
       "    </tr>\n",
       "    <tr>\n",
       "      <th>1</th>\n",
       "      <td>30</td>\n",
       "      <td>Black</td>\n",
       "      <td>NW</td>\n",
       "      <td>1</td>\n",
       "    </tr>\n",
       "    <tr>\n",
       "      <th>2</th>\n",
       "      <td>45</td>\n",
       "      <td>Red</td>\n",
       "      <td>NE</td>\n",
       "      <td>1</td>\n",
       "    </tr>\n",
       "    <tr>\n",
       "      <th>3</th>\n",
       "      <td>35</td>\n",
       "      <td>Blond</td>\n",
       "      <td>SW</td>\n",
       "      <td>0</td>\n",
       "    </tr>\n",
       "    <tr>\n",
       "      <th>4</th>\n",
       "      <td>33</td>\n",
       "      <td>Brown</td>\n",
       "      <td>SW</td>\n",
       "      <td>0</td>\n",
       "    </tr>\n",
       "    <tr>\n",
       "      <th>5</th>\n",
       "      <td>35</td>\n",
       "      <td>Brown</td>\n",
       "      <td>NE</td>\n",
       "      <td>0</td>\n",
       "    </tr>\n",
       "    <tr>\n",
       "      <th>6</th>\n",
       "      <td>25</td>\n",
       "      <td>Black</td>\n",
       "      <td>SW</td>\n",
       "      <td>0</td>\n",
       "    </tr>\n",
       "    <tr>\n",
       "      <th>7</th>\n",
       "      <td>52</td>\n",
       "      <td>Brown</td>\n",
       "      <td>SE</td>\n",
       "      <td>0</td>\n",
       "    </tr>\n",
       "    <tr>\n",
       "      <th>8</th>\n",
       "      <td>21</td>\n",
       "      <td>Blond</td>\n",
       "      <td>SW</td>\n",
       "      <td>1</td>\n",
       "    </tr>\n",
       "    <tr>\n",
       "      <th>9</th>\n",
       "      <td>24</td>\n",
       "      <td>Blond</td>\n",
       "      <td>NE</td>\n",
       "      <td>0</td>\n",
       "    </tr>\n",
       "    <tr>\n",
       "      <th>10</th>\n",
       "      <td>48</td>\n",
       "      <td>Black</td>\n",
       "      <td>SW</td>\n",
       "      <td>1</td>\n",
       "    </tr>\n",
       "    <tr>\n",
       "      <th>11</th>\n",
       "      <td>22</td>\n",
       "      <td>Black</td>\n",
       "      <td>SW</td>\n",
       "      <td>0</td>\n",
       "    </tr>\n",
       "    <tr>\n",
       "      <th>12</th>\n",
       "      <td>27</td>\n",
       "      <td>Brown</td>\n",
       "      <td>NE</td>\n",
       "      <td>0</td>\n",
       "    </tr>\n",
       "    <tr>\n",
       "      <th>13</th>\n",
       "      <td>28</td>\n",
       "      <td>Black</td>\n",
       "      <td>SE</td>\n",
       "      <td>1</td>\n",
       "    </tr>\n",
       "    <tr>\n",
       "      <th>14</th>\n",
       "      <td>21</td>\n",
       "      <td>Blond</td>\n",
       "      <td>SE</td>\n",
       "      <td>1</td>\n",
       "    </tr>\n",
       "    <tr>\n",
       "      <th>15</th>\n",
       "      <td>51</td>\n",
       "      <td>Black</td>\n",
       "      <td>NW</td>\n",
       "      <td>0</td>\n",
       "    </tr>\n",
       "    <tr>\n",
       "      <th>16</th>\n",
       "      <td>23</td>\n",
       "      <td>Brown</td>\n",
       "      <td>SE</td>\n",
       "      <td>1</td>\n",
       "    </tr>\n",
       "  </tbody>\n",
       "</table>\n",
       "</div>"
      ],
      "text/plain": [
       "    AGE HAIR COLOR US REGION  VALIDATION\n",
       "0    25      Black        SW           1\n",
       "1    30      Black        NW           1\n",
       "2    45        Red        NE           1\n",
       "3    35      Blond        SW           0\n",
       "4    33      Brown        SW           0\n",
       "5    35      Brown        NE           0\n",
       "6    25      Black        SW           0\n",
       "7    52      Brown        SE           0\n",
       "8    21      Blond        SW           1\n",
       "9    24      Blond        NE           0\n",
       "10   48      Black        SW           1\n",
       "11   22      Black        SW           0\n",
       "12   27      Brown        NE           0\n",
       "13   28      Black        SE           1\n",
       "14   21      Blond        SE           1\n",
       "15   51      Black        NW           0\n",
       "16   23      Brown        SE           1"
      ]
     },
     "execution_count": 57,
     "metadata": {},
     "output_type": "execute_result"
    }
   ],
   "source": [
    "pd.concat([pdlist3, pdlist4])"
   ]
  },
  {
   "cell_type": "code",
   "execution_count": 59,
   "id": "7d1bb834",
   "metadata": {},
   "outputs": [
    {
     "data": {
      "text/html": [
       "<div>\n",
       "<style scoped>\n",
       "    .dataframe tbody tr th:only-of-type {\n",
       "        vertical-align: middle;\n",
       "    }\n",
       "\n",
       "    .dataframe tbody tr th {\n",
       "        vertical-align: top;\n",
       "    }\n",
       "\n",
       "    .dataframe thead th {\n",
       "        text-align: right;\n",
       "    }\n",
       "</style>\n",
       "<table border=\"1\" class=\"dataframe\">\n",
       "  <thead>\n",
       "    <tr style=\"text-align: right;\">\n",
       "      <th></th>\n",
       "      <th>AGE</th>\n",
       "      <th>HAIR COLOR</th>\n",
       "      <th>US REGION</th>\n",
       "      <th>VALIDATION</th>\n",
       "      <th>AGE</th>\n",
       "      <th>HAIR COLOR</th>\n",
       "      <th>US REGION</th>\n",
       "      <th>VALIDATION</th>\n",
       "    </tr>\n",
       "  </thead>\n",
       "  <tbody>\n",
       "    <tr>\n",
       "      <th>0</th>\n",
       "      <td>25.0</td>\n",
       "      <td>Black</td>\n",
       "      <td>SW</td>\n",
       "      <td>1.0</td>\n",
       "      <td>NaN</td>\n",
       "      <td>NaN</td>\n",
       "      <td>NaN</td>\n",
       "      <td>NaN</td>\n",
       "    </tr>\n",
       "    <tr>\n",
       "      <th>1</th>\n",
       "      <td>30.0</td>\n",
       "      <td>Black</td>\n",
       "      <td>NW</td>\n",
       "      <td>1.0</td>\n",
       "      <td>NaN</td>\n",
       "      <td>NaN</td>\n",
       "      <td>NaN</td>\n",
       "      <td>NaN</td>\n",
       "    </tr>\n",
       "    <tr>\n",
       "      <th>2</th>\n",
       "      <td>45.0</td>\n",
       "      <td>Red</td>\n",
       "      <td>NE</td>\n",
       "      <td>1.0</td>\n",
       "      <td>NaN</td>\n",
       "      <td>NaN</td>\n",
       "      <td>NaN</td>\n",
       "      <td>NaN</td>\n",
       "    </tr>\n",
       "    <tr>\n",
       "      <th>3</th>\n",
       "      <td>35.0</td>\n",
       "      <td>Blond</td>\n",
       "      <td>SW</td>\n",
       "      <td>0.0</td>\n",
       "      <td>NaN</td>\n",
       "      <td>NaN</td>\n",
       "      <td>NaN</td>\n",
       "      <td>NaN</td>\n",
       "    </tr>\n",
       "    <tr>\n",
       "      <th>4</th>\n",
       "      <td>33.0</td>\n",
       "      <td>Brown</td>\n",
       "      <td>SW</td>\n",
       "      <td>0.0</td>\n",
       "      <td>NaN</td>\n",
       "      <td>NaN</td>\n",
       "      <td>NaN</td>\n",
       "      <td>NaN</td>\n",
       "    </tr>\n",
       "    <tr>\n",
       "      <th>5</th>\n",
       "      <td>35.0</td>\n",
       "      <td>Brown</td>\n",
       "      <td>NE</td>\n",
       "      <td>0.0</td>\n",
       "      <td>NaN</td>\n",
       "      <td>NaN</td>\n",
       "      <td>NaN</td>\n",
       "      <td>NaN</td>\n",
       "    </tr>\n",
       "    <tr>\n",
       "      <th>6</th>\n",
       "      <td>25.0</td>\n",
       "      <td>Black</td>\n",
       "      <td>SW</td>\n",
       "      <td>0.0</td>\n",
       "      <td>NaN</td>\n",
       "      <td>NaN</td>\n",
       "      <td>NaN</td>\n",
       "      <td>NaN</td>\n",
       "    </tr>\n",
       "    <tr>\n",
       "      <th>7</th>\n",
       "      <td>52.0</td>\n",
       "      <td>Brown</td>\n",
       "      <td>SE</td>\n",
       "      <td>0.0</td>\n",
       "      <td>NaN</td>\n",
       "      <td>NaN</td>\n",
       "      <td>NaN</td>\n",
       "      <td>NaN</td>\n",
       "    </tr>\n",
       "    <tr>\n",
       "      <th>8</th>\n",
       "      <td>21.0</td>\n",
       "      <td>Blond</td>\n",
       "      <td>SW</td>\n",
       "      <td>1.0</td>\n",
       "      <td>NaN</td>\n",
       "      <td>NaN</td>\n",
       "      <td>NaN</td>\n",
       "      <td>NaN</td>\n",
       "    </tr>\n",
       "    <tr>\n",
       "      <th>9</th>\n",
       "      <td>24.0</td>\n",
       "      <td>Blond</td>\n",
       "      <td>NE</td>\n",
       "      <td>0.0</td>\n",
       "      <td>NaN</td>\n",
       "      <td>NaN</td>\n",
       "      <td>NaN</td>\n",
       "      <td>NaN</td>\n",
       "    </tr>\n",
       "    <tr>\n",
       "      <th>10</th>\n",
       "      <td>NaN</td>\n",
       "      <td>NaN</td>\n",
       "      <td>NaN</td>\n",
       "      <td>NaN</td>\n",
       "      <td>48.0</td>\n",
       "      <td>Black</td>\n",
       "      <td>SW</td>\n",
       "      <td>1.0</td>\n",
       "    </tr>\n",
       "    <tr>\n",
       "      <th>11</th>\n",
       "      <td>NaN</td>\n",
       "      <td>NaN</td>\n",
       "      <td>NaN</td>\n",
       "      <td>NaN</td>\n",
       "      <td>22.0</td>\n",
       "      <td>Black</td>\n",
       "      <td>SW</td>\n",
       "      <td>0.0</td>\n",
       "    </tr>\n",
       "    <tr>\n",
       "      <th>12</th>\n",
       "      <td>NaN</td>\n",
       "      <td>NaN</td>\n",
       "      <td>NaN</td>\n",
       "      <td>NaN</td>\n",
       "      <td>27.0</td>\n",
       "      <td>Brown</td>\n",
       "      <td>NE</td>\n",
       "      <td>0.0</td>\n",
       "    </tr>\n",
       "    <tr>\n",
       "      <th>13</th>\n",
       "      <td>NaN</td>\n",
       "      <td>NaN</td>\n",
       "      <td>NaN</td>\n",
       "      <td>NaN</td>\n",
       "      <td>28.0</td>\n",
       "      <td>Black</td>\n",
       "      <td>SE</td>\n",
       "      <td>1.0</td>\n",
       "    </tr>\n",
       "    <tr>\n",
       "      <th>14</th>\n",
       "      <td>NaN</td>\n",
       "      <td>NaN</td>\n",
       "      <td>NaN</td>\n",
       "      <td>NaN</td>\n",
       "      <td>21.0</td>\n",
       "      <td>Blond</td>\n",
       "      <td>SE</td>\n",
       "      <td>1.0</td>\n",
       "    </tr>\n",
       "    <tr>\n",
       "      <th>15</th>\n",
       "      <td>NaN</td>\n",
       "      <td>NaN</td>\n",
       "      <td>NaN</td>\n",
       "      <td>NaN</td>\n",
       "      <td>51.0</td>\n",
       "      <td>Black</td>\n",
       "      <td>NW</td>\n",
       "      <td>0.0</td>\n",
       "    </tr>\n",
       "    <tr>\n",
       "      <th>16</th>\n",
       "      <td>NaN</td>\n",
       "      <td>NaN</td>\n",
       "      <td>NaN</td>\n",
       "      <td>NaN</td>\n",
       "      <td>23.0</td>\n",
       "      <td>Brown</td>\n",
       "      <td>SE</td>\n",
       "      <td>1.0</td>\n",
       "    </tr>\n",
       "  </tbody>\n",
       "</table>\n",
       "</div>"
      ],
      "text/plain": [
       "     AGE HAIR COLOR US REGION  VALIDATION   AGE HAIR COLOR US REGION  \\\n",
       "0   25.0      Black        SW         1.0   NaN        NaN       NaN   \n",
       "1   30.0      Black        NW         1.0   NaN        NaN       NaN   \n",
       "2   45.0        Red        NE         1.0   NaN        NaN       NaN   \n",
       "3   35.0      Blond        SW         0.0   NaN        NaN       NaN   \n",
       "4   33.0      Brown        SW         0.0   NaN        NaN       NaN   \n",
       "5   35.0      Brown        NE         0.0   NaN        NaN       NaN   \n",
       "6   25.0      Black        SW         0.0   NaN        NaN       NaN   \n",
       "7   52.0      Brown        SE         0.0   NaN        NaN       NaN   \n",
       "8   21.0      Blond        SW         1.0   NaN        NaN       NaN   \n",
       "9   24.0      Blond        NE         0.0   NaN        NaN       NaN   \n",
       "10   NaN        NaN       NaN         NaN  48.0      Black        SW   \n",
       "11   NaN        NaN       NaN         NaN  22.0      Black        SW   \n",
       "12   NaN        NaN       NaN         NaN  27.0      Brown        NE   \n",
       "13   NaN        NaN       NaN         NaN  28.0      Black        SE   \n",
       "14   NaN        NaN       NaN         NaN  21.0      Blond        SE   \n",
       "15   NaN        NaN       NaN         NaN  51.0      Black        NW   \n",
       "16   NaN        NaN       NaN         NaN  23.0      Brown        SE   \n",
       "\n",
       "    VALIDATION  \n",
       "0          NaN  \n",
       "1          NaN  \n",
       "2          NaN  \n",
       "3          NaN  \n",
       "4          NaN  \n",
       "5          NaN  \n",
       "6          NaN  \n",
       "7          NaN  \n",
       "8          NaN  \n",
       "9          NaN  \n",
       "10         1.0  \n",
       "11         0.0  \n",
       "12         0.0  \n",
       "13         1.0  \n",
       "14         1.0  \n",
       "15         0.0  \n",
       "16         1.0  "
      ]
     },
     "execution_count": 59,
     "metadata": {},
     "output_type": "execute_result"
    }
   ],
   "source": [
    "pd.concat([pdlist3, pdlist4],axis=1)"
   ]
  },
  {
   "cell_type": "markdown",
   "id": "299c987f",
   "metadata": {},
   "source": [
    "### 5.What is the difference between list and tuples in Python?"
   ]
  },
  {
   "cell_type": "code",
   "execution_count": 33,
   "id": "35885c2f",
   "metadata": {},
   "outputs": [],
   "source": [
    "#List are mutable , tuple are immutable."
   ]
  },
  {
   "cell_type": "code",
   "execution_count": 34,
   "id": "342c1f1a",
   "metadata": {},
   "outputs": [],
   "source": [
    "list1 = [1,2,3,4]\n",
    "list1[1] = 10"
   ]
  },
  {
   "cell_type": "code",
   "execution_count": 35,
   "id": "14f63328",
   "metadata": {},
   "outputs": [
    {
     "data": {
      "text/plain": [
       "[1, 10, 3, 4]"
      ]
     },
     "execution_count": 35,
     "metadata": {},
     "output_type": "execute_result"
    }
   ],
   "source": [
    "list1"
   ]
  },
  {
   "cell_type": "code",
   "execution_count": 36,
   "id": "1d68d1d8",
   "metadata": {},
   "outputs": [
    {
     "ename": "TypeError",
     "evalue": "'tuple' object does not support item assignment",
     "output_type": "error",
     "traceback": [
      "\u001b[1;31m---------------------------------------------------------------------------\u001b[0m",
      "\u001b[1;31mTypeError\u001b[0m                                 Traceback (most recent call last)",
      "\u001b[1;32m~\\AppData\\Local\\Temp/ipykernel_14512/116953071.py\u001b[0m in \u001b[0;36m<module>\u001b[1;34m\u001b[0m\n\u001b[0;32m      1\u001b[0m \u001b[0mtup1\u001b[0m \u001b[1;33m=\u001b[0m \u001b[1;33m(\u001b[0m\u001b[1;36m1\u001b[0m\u001b[1;33m,\u001b[0m\u001b[1;36m2\u001b[0m\u001b[1;33m,\u001b[0m\u001b[1;36m3\u001b[0m\u001b[1;33m,\u001b[0m\u001b[1;36m4\u001b[0m\u001b[1;33m)\u001b[0m\u001b[1;33m\u001b[0m\u001b[1;33m\u001b[0m\u001b[0m\n\u001b[1;32m----> 2\u001b[1;33m \u001b[0mtup1\u001b[0m\u001b[1;33m[\u001b[0m\u001b[1;36m1\u001b[0m\u001b[1;33m]\u001b[0m \u001b[1;33m=\u001b[0m \u001b[1;36m10\u001b[0m\u001b[1;33m\u001b[0m\u001b[1;33m\u001b[0m\u001b[0m\n\u001b[0m",
      "\u001b[1;31mTypeError\u001b[0m: 'tuple' object does not support item assignment"
     ]
    }
   ],
   "source": [
    "tup1 = (1,2,3,4)\n",
    "tup1[1] = 10"
   ]
  },
  {
   "cell_type": "markdown",
   "id": "37562acc",
   "metadata": {},
   "source": [
    "### 6. Find out the mean, median and standard deviation of this numpy array -> np.array([1,5,3,100,4,48])"
   ]
  },
  {
   "cell_type": "code",
   "execution_count": 19,
   "id": "f32a6222",
   "metadata": {},
   "outputs": [],
   "source": [
    "list1 = [1,5,3,100,4,48] "
   ]
  },
  {
   "cell_type": "code",
   "execution_count": 20,
   "id": "809d7b61",
   "metadata": {},
   "outputs": [],
   "source": [
    "nparr = np.array(list1)"
   ]
  },
  {
   "cell_type": "code",
   "execution_count": 30,
   "id": "4a54a997",
   "metadata": {},
   "outputs": [],
   "source": [
    "npmean = nparr.mean()\n",
    "npmedian = np.median(npmean)\n",
    "npstddev = np.std(npmean)"
   ]
  },
  {
   "cell_type": "code",
   "execution_count": 27,
   "id": "66eb5b5a",
   "metadata": {},
   "outputs": [
    {
     "data": {
      "text/plain": [
       "26.833333333333332"
      ]
     },
     "execution_count": 27,
     "metadata": {},
     "output_type": "execute_result"
    }
   ],
   "source": [
    "npmean"
   ]
  },
  {
   "cell_type": "code",
   "execution_count": 29,
   "id": "3881ea9a",
   "metadata": {},
   "outputs": [
    {
     "data": {
      "text/plain": [
       "26.833333333333332"
      ]
     },
     "execution_count": 29,
     "metadata": {},
     "output_type": "execute_result"
    }
   ],
   "source": [
    "npmedian"
   ]
  },
  {
   "cell_type": "code",
   "execution_count": 31,
   "id": "6a8b8723",
   "metadata": {},
   "outputs": [
    {
     "data": {
      "text/plain": [
       "0.0"
      ]
     },
     "execution_count": 31,
     "metadata": {},
     "output_type": "execute_result"
    }
   ],
   "source": [
    "npstddev"
   ]
  },
  {
   "cell_type": "markdown",
   "id": "148cda4c",
   "metadata": {},
   "source": [
    "### 7.How will you remove duplicate elements from a list"
   ]
  },
  {
   "cell_type": "code",
   "execution_count": null,
   "id": "46ec392b",
   "metadata": {},
   "outputs": [],
   "source": [
    "# M1 :When we convert into set all duplicates will be removed.\n",
    "# M2 : Need to make empty list and loop the list and append the value if the value not exits in the new list."
   ]
  },
  {
   "cell_type": "code",
   "execution_count": 37,
   "id": "354fef40",
   "metadata": {},
   "outputs": [],
   "source": [
    "list1 = [1,2,3,4,4]"
   ]
  },
  {
   "cell_type": "code",
   "execution_count": 38,
   "id": "981742be",
   "metadata": {},
   "outputs": [],
   "source": [
    "set1 = set(list1)"
   ]
  },
  {
   "cell_type": "code",
   "execution_count": 39,
   "id": "668b661a",
   "metadata": {},
   "outputs": [
    {
     "data": {
      "text/plain": [
       "{1, 2, 3, 4}"
      ]
     },
     "execution_count": 39,
     "metadata": {},
     "output_type": "execute_result"
    }
   ],
   "source": [
    "set1"
   ]
  },
  {
   "cell_type": "markdown",
   "id": "eed8dd3c",
   "metadata": {},
   "source": [
    "### 8.What is a map() function in Python? Give an example"
   ]
  },
  {
   "cell_type": "code",
   "execution_count": 45,
   "id": "851e2fe1",
   "metadata": {},
   "outputs": [
    {
     "name": "stdout",
     "output_type": "stream",
     "text": [
      "[121, 2809, 441, 5929, 7569]\n"
     ]
    }
   ],
   "source": [
    "# map is used to map the all the values with our expression\n",
    "org_list = [12, 11, 53, 22, 21, 77, 87, 88, 98]\n",
    "list1 = list(filter(lambda x : x % 2 != 0, org_list))\n",
    "list2= list(map(lambda x: x**2,list1))\n",
    "print(list2)"
   ]
  },
  {
   "cell_type": "markdown",
   "id": "5ac149d2",
   "metadata": {},
   "source": [
    "### 9. What is pass in Python?"
   ]
  },
  {
   "cell_type": "code",
   "execution_count": 40,
   "id": "a0acd083",
   "metadata": {},
   "outputs": [],
   "source": [
    "# Pass is used to execute our code with the initiation\n",
    "def fnname():\n",
    "    pass"
   ]
  },
  {
   "cell_type": "code",
   "execution_count": 41,
   "id": "ee27d5f4",
   "metadata": {},
   "outputs": [
    {
     "ename": "IndentationError",
     "evalue": "expected an indented block (Temp/ipykernel_14512/3974333321.py, line 1)",
     "output_type": "error",
     "traceback": [
      "\u001b[1;36m  File \u001b[1;32m\"C:\\Users\\RAJKUMAR\\AppData\\Local\\Temp/ipykernel_14512/3974333321.py\"\u001b[1;36m, line \u001b[1;32m1\u001b[0m\n\u001b[1;33m    def fnname():\u001b[0m\n\u001b[1;37m                 ^\u001b[0m\n\u001b[1;31mIndentationError\u001b[0m\u001b[1;31m:\u001b[0m expected an indented block\n"
     ]
    }
   ],
   "source": [
    "def fnname():\n"
   ]
  },
  {
   "cell_type": "markdown",
   "id": "485c44c5",
   "metadata": {},
   "source": [
    "### 10.What is vstack() in numpy? Give an example"
   ]
  },
  {
   "cell_type": "code",
   "execution_count": 42,
   "id": "d3e20d43",
   "metadata": {},
   "outputs": [],
   "source": [
    "arr1 = np.array([10,20,30,40,50,60,70])\n",
    "arr2 = np.array([5,5,5,5,5,5,5])\n"
   ]
  },
  {
   "cell_type": "code",
   "execution_count": 43,
   "id": "b755b723",
   "metadata": {},
   "outputs": [
    {
     "data": {
      "text/plain": [
       "array([[10, 20, 30, 40, 50, 60, 70],\n",
       "       [ 5,  5,  5,  5,  5,  5,  5]])"
      ]
     },
     "execution_count": 43,
     "metadata": {},
     "output_type": "execute_result"
    }
   ],
   "source": [
    "#Stack arrays in sequence vertically (row wise).\n",
    "np.vstack((arr1,arr2))"
   ]
  },
  {
   "cell_type": "code",
   "execution_count": null,
   "id": "02b4b6ef",
   "metadata": {},
   "outputs": [],
   "source": []
  },
  {
   "cell_type": "code",
   "execution_count": null,
   "id": "3a32b2ab",
   "metadata": {},
   "outputs": [],
   "source": []
  },
  {
   "cell_type": "code",
   "execution_count": null,
   "id": "1b6580f2",
   "metadata": {},
   "outputs": [],
   "source": []
  }
 ],
 "metadata": {
  "kernelspec": {
   "display_name": "Python 3 (ipykernel)",
   "language": "python",
   "name": "python3"
  },
  "language_info": {
   "codemirror_mode": {
    "name": "ipython",
    "version": 3
   },
   "file_extension": ".py",
   "mimetype": "text/x-python",
   "name": "python",
   "nbconvert_exporter": "python",
   "pygments_lexer": "ipython3",
   "version": "3.9.7"
  }
 },
 "nbformat": 4,
 "nbformat_minor": 5
}
