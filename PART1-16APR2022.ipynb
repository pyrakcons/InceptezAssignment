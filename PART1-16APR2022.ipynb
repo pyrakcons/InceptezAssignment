{
 "cells": [
  {
   "cell_type": "markdown",
   "id": "b02e8194",
   "metadata": {},
   "source": [
    "### PART1 – Programming:"
   ]
  },
  {
   "cell_type": "markdown",
   "id": "2b7fd52c",
   "metadata": {},
   "source": [
    "### 1. Write a program (with function) which takes a sequence of numbers and check if all numbers are unique."
   ]
  },
  {
   "cell_type": "code",
   "execution_count": 29,
   "id": "44ccd6f3",
   "metadata": {},
   "outputs": [],
   "source": [
    "def find_unique(inp1):\n",
    "    'Find the unique sequence from the input'    \n",
    "    list1 = list(inp1.split(\",\"))\n",
    "    uniqlist =[]\n",
    "    for i in list1:\n",
    "        if i not in uniqlist:\n",
    "            uniqlist.append(i)\n",
    "    print(len(list1))\n",
    "    print(len(uniqlist))\n",
    "    if len(list1)==len(uniqlist):\n",
    "        print('Given sequence numbers are unique')\n",
    "    else:\n",
    "        print('Given sequence numbers are not unique')   "
   ]
  },
  {
   "cell_type": "code",
   "execution_count": 30,
   "id": "f9091f9a",
   "metadata": {},
   "outputs": [
    {
     "name": "stdout",
     "output_type": "stream",
     "text": [
      "4\n",
      "3\n",
      "Given sequence numbers are not unique\n"
     ]
    }
   ],
   "source": [
    "find_unique('10,20,30,30')"
   ]
  },
  {
   "cell_type": "markdown",
   "id": "7423ebe6",
   "metadata": {},
   "source": [
    "### 2. Python program to find out the average of a set of integers\n",
    "#### a. Note: Don’t use the pre-defined functions like np.mean\n",
    "#### b. For ex: If input is 5, the output should be average of 1+2+3+4+5\n"
   ]
  },
  {
   "cell_type": "code",
   "execution_count": 10,
   "id": "7553f0d3",
   "metadata": {},
   "outputs": [
    {
     "name": "stdout",
     "output_type": "stream",
     "text": [
      "10\n",
      "5.5\n"
     ]
    }
   ],
   "source": [
    "inp1 = int(input())\n",
    "res = 0\n",
    "for i in range(1,inp1+1):\n",
    "    #print(i)\n",
    "    res = res + i\n",
    "print(res/inp1)     \n",
    "    "
   ]
  },
  {
   "cell_type": "markdown",
   "id": "a0e63095",
   "metadata": {},
   "source": [
    "### 3. Python program to check whether the given integer is a multiple of both 5 and 7"
   ]
  },
  {
   "cell_type": "code",
   "execution_count": 17,
   "id": "c8160c2e",
   "metadata": {},
   "outputs": [
    {
     "name": "stdout",
     "output_type": "stream",
     "text": [
      "35\n",
      "given integer is a multiple of both 5 and 7\n"
     ]
    }
   ],
   "source": [
    "inp1 = int(input())\n",
    "if inp1 % 5 ==0 and inp1 % 7==0:\n",
    "    print('given integer is a multiple of both 5 and 7')\n",
    "else:\n",
    "    print('given integer is a not multiple of both 5 and 7')"
   ]
  },
  {
   "cell_type": "markdown",
   "id": "64b1f343",
   "metadata": {},
   "source": [
    "### 4.Python program to display the given integer in reverse manner\n",
    "#### a. Ex: input 852, output should be 258"
   ]
  },
  {
   "cell_type": "code",
   "execution_count": 27,
   "id": "53412aa1",
   "metadata": {},
   "outputs": [
    {
     "name": "stdout",
     "output_type": "stream",
     "text": [
      "852\n",
      "258"
     ]
    }
   ],
   "source": [
    "inp1 = input()\n",
    "for i in reversed(inp1):\n",
    "    print(i,end='')   "
   ]
  },
  {
   "cell_type": "markdown",
   "id": "7a5061aa",
   "metadata": {},
   "source": [
    "### 5. Create an inner function to calculate the addition in the following way\n",
    "#### a. Create an outer function that will accept two parameters, a and b\n",
    "#### b. Create an inner function inside an outer function that will calculate the addition of a and b\n",
    "#### c. At last, an outer function will add 5 into addition and return i"
   ]
  },
  {
   "cell_type": "code",
   "execution_count": 57,
   "id": "cda3d74a",
   "metadata": {},
   "outputs": [],
   "source": [
    "def outer_fun(a,b):\n",
    "    c = 5\n",
    "    def inner_fun():\n",
    "        var1 = (a+b) + 5\n",
    "        print(var1)\n",
    "    return inner_fun()"
   ]
  },
  {
   "cell_type": "code",
   "execution_count": 59,
   "id": "1708da59",
   "metadata": {},
   "outputs": [
    {
     "name": "stdout",
     "output_type": "stream",
     "text": [
      "30\n"
     ]
    }
   ],
   "source": [
    "outer_fun(20,5)"
   ]
  },
  {
   "cell_type": "markdown",
   "id": "12685204",
   "metadata": {},
   "source": [
    "### 6. Python Program to Check Leap Year\n",
    "##### a. A leap year is exactly divisible by 4 except for century years (years ending with 00). The century year is a leap year only if it is perfectly divisible by 400\n",
    "#### b. For ex: 2017 is not a leap year, 1900 is a not leap year, 2012 is a leap year, 2000 is a leap year"
   ]
  },
  {
   "cell_type": "code",
   "execution_count": 55,
   "id": "08b0b08e",
   "metadata": {},
   "outputs": [
    {
     "name": "stdout",
     "output_type": "stream",
     "text": [
      "Enter year: 2012\n",
      "leap year: 2012\n"
     ]
    }
   ],
   "source": [
    "yr = int(input('Enter year: '))\n",
    "if 1900<yr<=10**5 and ((yr % 4==0) or (yr % 100 ==0) or (yr % 400==0)):\n",
    "    print('leap year:',yr)\n",
    "else:\n",
    "    print('No Leap Year')"
   ]
  },
  {
   "cell_type": "code",
   "execution_count": null,
   "id": "ce6cebc5",
   "metadata": {},
   "outputs": [],
   "source": []
  },
  {
   "cell_type": "code",
   "execution_count": null,
   "id": "8c933733",
   "metadata": {},
   "outputs": [],
   "source": []
  }
 ],
 "metadata": {
  "kernelspec": {
   "display_name": "Python 3 (ipykernel)",
   "language": "python",
   "name": "python3"
  },
  "language_info": {
   "codemirror_mode": {
    "name": "ipython",
    "version": 3
   },
   "file_extension": ".py",
   "mimetype": "text/x-python",
   "name": "python",
   "nbconvert_exporter": "python",
   "pygments_lexer": "ipython3",
   "version": "3.9.7"
  }
 },
 "nbformat": 4,
 "nbformat_minor": 5
}
