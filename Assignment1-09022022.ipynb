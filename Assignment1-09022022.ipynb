{
 "cells": [
  {
   "cell_type": "markdown",
   "id": "8abcc0c4",
   "metadata": {},
   "source": [
    "## 1.\tImport the necessary package to\n",
    "#### a.\tSet the current working directory\n",
    "#### b.\tChange the working directory"
   ]
  },
  {
   "cell_type": "code",
   "execution_count": null,
   "id": "2c2b93cf",
   "metadata": {},
   "outputs": [],
   "source": [
    "# Import the OS package\n",
    "import os"
   ]
  },
  {
   "cell_type": "code",
   "execution_count": null,
   "id": "ca51f13f",
   "metadata": {},
   "outputs": [],
   "source": [
    "# To know the current working directory\n",
    "os.getcwd()"
   ]
  },
  {
   "cell_type": "code",
   "execution_count": null,
   "id": "dd45ad06",
   "metadata": {},
   "outputs": [],
   "source": [
    "# To chnage the working Directory\n",
    "os.chdir('D:/Datascience/inceptez')"
   ]
  },
  {
   "cell_type": "code",
   "execution_count": null,
   "id": "748c2930",
   "metadata": {},
   "outputs": [],
   "source": [
    "os.getcwd()"
   ]
  },
  {
   "cell_type": "code",
   "execution_count": null,
   "id": "b0bd1c64",
   "metadata": {},
   "outputs": [],
   "source": [
    "os.chdir('D:/Datascience/inceptez/Assignment Work')"
   ]
  },
  {
   "cell_type": "code",
   "execution_count": null,
   "id": "027d7c67",
   "metadata": {},
   "outputs": [],
   "source": [
    "os.getcwd()"
   ]
  },
  {
   "cell_type": "markdown",
   "id": "d7de9ad8",
   "metadata": {},
   "source": [
    "## 2.\tCreate the string, int and float variable and delete them all in the next cell"
   ]
  },
  {
   "cell_type": "code",
   "execution_count": null,
   "id": "5b9f3632",
   "metadata": {},
   "outputs": [],
   "source": [
    "# Assign string,int & float into list\n",
    "list_a = ['rajkumar',1,10.5]\n",
    "print(list_a)\n",
    "# Assign empty index value in the list \n",
    "list_a = []\n",
    "print(list_a)"
   ]
  },
  {
   "cell_type": "code",
   "execution_count": null,
   "id": "d635ecf3",
   "metadata": {},
   "outputs": [],
   "source": [
    "# Assign string,int & float into list\n",
    "list_a = ['rajkumar',1,10.5]\n",
    "print(list_a)\n",
    "# Assign the index value from the list \n",
    "del list_a[:]\n",
    "print(list_a)"
   ]
  },
  {
   "cell_type": "code",
   "execution_count": null,
   "id": "cbb5d659",
   "metadata": {},
   "outputs": [],
   "source": [
    "# Assign string,int & float into list\n",
    "list_a = ['rajkumar',1,10.5]\n",
    "print(list_a)\n",
    "# Clear the list\n",
    "list_a.clear()\n",
    "print(list_a)"
   ]
  },
  {
   "cell_type": "markdown",
   "id": "6d84e3cb",
   "metadata": {},
   "source": [
    "## 3.\tWhat’s the result of assigning a value to a ‘keyword’?"
   ]
  },
  {
   "cell_type": "code",
   "execution_count": 5,
   "id": "7150c73d",
   "metadata": {},
   "outputs": [
    {
     "ename": "SyntaxError",
     "evalue": "invalid syntax (Temp/ipykernel_12240/2208804787.py, line 1)",
     "output_type": "error",
     "traceback": [
      "\u001b[1;36m  File \u001b[1;32m\"C:\\Users\\RAJKUMAR\\AppData\\Local\\Temp/ipykernel_12240/2208804787.py\"\u001b[1;36m, line \u001b[1;32m1\u001b[0m\n\u001b[1;33m    break = 'rajkumar'\u001b[0m\n\u001b[1;37m          ^\u001b[0m\n\u001b[1;31mSyntaxError\u001b[0m\u001b[1;31m:\u001b[0m invalid syntax\n"
     ]
    }
   ],
   "source": [
    "break = 'rajkumar'\n",
    "print(break)"
   ]
  },
  {
   "cell_type": "markdown",
   "id": "8633bfd7",
   "metadata": {},
   "source": [
    "## 4.\tHow to write a multi-line statement and assign it to a variable (Note: Without using a backslash “\\” at the end of each line)"
   ]
  },
  {
   "cell_type": "code",
   "execution_count": 1,
   "id": "1111c960",
   "metadata": {},
   "outputs": [
    {
     "name": "stdout",
     "output_type": "stream",
     "text": [
      "aa\n",
      "bb\n",
      "cc\n"
     ]
    }
   ],
   "source": [
    "# this approah is for align the multi-line statement with newline charcter\n",
    "var_name1 = '''aa\n",
    "bb\n",
    "cc'''\n",
    "print(var_name1)"
   ]
  },
  {
   "cell_type": "code",
   "execution_count": 3,
   "id": "d1b8e4a6",
   "metadata": {},
   "outputs": [
    {
     "name": "stdout",
     "output_type": "stream",
     "text": [
      "aabbcc\n"
     ]
    }
   ],
   "source": [
    "# this approch is for align the multi-line staement in single line \n",
    "var_name1 = ('aa'\n",
    "'bb'\n",
    "'cc')\n",
    "print(var_name1)"
   ]
  },
  {
   "cell_type": "code",
   "execution_count": 5,
   "id": "f8cd4b69",
   "metadata": {},
   "outputs": [
    {
     "name": "stdout",
     "output_type": "stream",
     "text": [
      "aabbcc\n"
     ]
    }
   ],
   "source": [
    "var_name1 = 'aa\\\n",
    "bb\\\n",
    "cc'\n",
    "print(var_name1)"
   ]
  },
  {
   "cell_type": "markdown",
   "id": "056e37fc",
   "metadata": {},
   "source": [
    "## 5.\tPrint the list of numbers from 100 to 999 with an interval (step size) of 8 between the numbers"
   ]
  },
  {
   "cell_type": "code",
   "execution_count": 9,
   "id": "2479ae9b",
   "metadata": {},
   "outputs": [
    {
     "data": {
      "text/plain": [
       "[100,\n",
       " 108,\n",
       " 116,\n",
       " 124,\n",
       " 132,\n",
       " 140,\n",
       " 148,\n",
       " 156,\n",
       " 164,\n",
       " 172,\n",
       " 180,\n",
       " 188,\n",
       " 196,\n",
       " 204,\n",
       " 212,\n",
       " 220,\n",
       " 228,\n",
       " 236,\n",
       " 244,\n",
       " 252,\n",
       " 260,\n",
       " 268,\n",
       " 276,\n",
       " 284,\n",
       " 292,\n",
       " 300,\n",
       " 308,\n",
       " 316,\n",
       " 324,\n",
       " 332,\n",
       " 340,\n",
       " 348,\n",
       " 356,\n",
       " 364,\n",
       " 372,\n",
       " 380,\n",
       " 388,\n",
       " 396,\n",
       " 404,\n",
       " 412,\n",
       " 420,\n",
       " 428,\n",
       " 436,\n",
       " 444,\n",
       " 452,\n",
       " 460,\n",
       " 468,\n",
       " 476,\n",
       " 484,\n",
       " 492,\n",
       " 500,\n",
       " 508,\n",
       " 516,\n",
       " 524,\n",
       " 532,\n",
       " 540,\n",
       " 548,\n",
       " 556,\n",
       " 564,\n",
       " 572,\n",
       " 580,\n",
       " 588,\n",
       " 596,\n",
       " 604,\n",
       " 612,\n",
       " 620,\n",
       " 628,\n",
       " 636,\n",
       " 644,\n",
       " 652,\n",
       " 660,\n",
       " 668,\n",
       " 676,\n",
       " 684,\n",
       " 692,\n",
       " 700,\n",
       " 708,\n",
       " 716,\n",
       " 724,\n",
       " 732,\n",
       " 740,\n",
       " 748,\n",
       " 756,\n",
       " 764,\n",
       " 772,\n",
       " 780,\n",
       " 788,\n",
       " 796,\n",
       " 804,\n",
       " 812,\n",
       " 820,\n",
       " 828,\n",
       " 836,\n",
       " 844,\n",
       " 852,\n",
       " 860,\n",
       " 868,\n",
       " 876,\n",
       " 884,\n",
       " 892,\n",
       " 900,\n",
       " 908,\n",
       " 916,\n",
       " 924,\n",
       " 932,\n",
       " 940,\n",
       " 948,\n",
       " 956,\n",
       " 964,\n",
       " 972,\n",
       " 980,\n",
       " 988,\n",
       " 996]"
      ]
     },
     "execution_count": 9,
     "metadata": {},
     "output_type": "execute_result"
    }
   ],
   "source": [
    "list(range(100,999,8))"
   ]
  },
  {
   "cell_type": "code",
   "execution_count": 7,
   "id": "356f569a",
   "metadata": {},
   "outputs": [
    {
     "name": "stdout",
     "output_type": "stream",
     "text": [
      "100\n",
      "108\n",
      "116\n",
      "124\n",
      "132\n",
      "140\n",
      "148\n",
      "156\n",
      "164\n",
      "172\n",
      "180\n",
      "188\n",
      "196\n",
      "204\n",
      "212\n",
      "220\n",
      "228\n",
      "236\n",
      "244\n",
      "252\n",
      "260\n",
      "268\n",
      "276\n",
      "284\n",
      "292\n",
      "300\n",
      "308\n",
      "316\n",
      "324\n",
      "332\n",
      "340\n",
      "348\n",
      "356\n",
      "364\n",
      "372\n",
      "380\n",
      "388\n",
      "396\n",
      "404\n",
      "412\n",
      "420\n",
      "428\n",
      "436\n",
      "444\n",
      "452\n",
      "460\n",
      "468\n",
      "476\n",
      "484\n",
      "492\n",
      "500\n",
      "508\n",
      "516\n",
      "524\n",
      "532\n",
      "540\n",
      "548\n",
      "556\n",
      "564\n",
      "572\n",
      "580\n",
      "588\n",
      "596\n",
      "604\n",
      "612\n",
      "620\n",
      "628\n",
      "636\n",
      "644\n",
      "652\n",
      "660\n",
      "668\n",
      "676\n",
      "684\n",
      "692\n",
      "700\n",
      "708\n",
      "716\n",
      "724\n",
      "732\n",
      "740\n",
      "748\n",
      "756\n",
      "764\n",
      "772\n",
      "780\n",
      "788\n",
      "796\n",
      "804\n",
      "812\n",
      "820\n",
      "828\n",
      "836\n",
      "844\n",
      "852\n",
      "860\n",
      "868\n",
      "876\n",
      "884\n",
      "892\n",
      "900\n",
      "908\n",
      "916\n",
      "924\n",
      "932\n",
      "940\n",
      "948\n",
      "956\n",
      "964\n",
      "972\n",
      "980\n",
      "988\n",
      "996\n"
     ]
    }
   ],
   "source": [
    "for i in range(100,999,8):\n",
    "    print(i)"
   ]
  },
  {
   "cell_type": "markdown",
   "id": "9dc5e9a5",
   "metadata": {},
   "source": [
    "## 6.\tWrite a “for” loop to print out the ‘n’ values and break out of the statement if the value is ‘n/2’"
   ]
  },
  {
   "cell_type": "code",
   "execution_count": 57,
   "id": "ced57301",
   "metadata": {},
   "outputs": [
    {
     "name": "stdout",
     "output_type": "stream",
     "text": [
      "10\n",
      "20\n",
      "30\n"
     ]
    }
   ],
   "source": [
    "n = [10,20,30,40,50,60]\n",
    "l_n = round(len(n) / 2)\n",
    "new_list = n[:l_n]\n",
    "#print(l_n)\n",
    "for i in new_list:\n",
    "    print(i)       "
   ]
  },
  {
   "cell_type": "markdown",
   "id": "3001b4d8",
   "metadata": {},
   "source": [
    "## 7.\tWrite a simple function and call the docstring from outside the function"
   ]
  },
  {
   "cell_type": "code",
   "execution_count": 65,
   "id": "b1d46cae",
   "metadata": {},
   "outputs": [],
   "source": [
    "def Square_Val(a):\n",
    "    '''This function is used to square the input value'''\n",
    "    return a * a"
   ]
  },
  {
   "cell_type": "code",
   "execution_count": 68,
   "id": "824d8741",
   "metadata": {},
   "outputs": [
    {
     "name": "stdout",
     "output_type": "stream",
     "text": [
      "This function is used to square the input value\n"
     ]
    },
    {
     "data": {
      "text/plain": [
       "100"
      ]
     },
     "execution_count": 68,
     "metadata": {},
     "output_type": "execute_result"
    }
   ],
   "source": [
    "print(Square_Val.__doc__)\n",
    "Square_Val(10)"
   ]
  },
  {
   "cell_type": "markdown",
   "id": "d02a5a3f",
   "metadata": {},
   "source": [
    "## 8.\tCreate a user-defined package in ‘site-packages’ with below 3 variables a, b and c. Import these variables and write a function to calculate the area of triangle for below 3 sides (a, b, c). Calculate the semi-perimeter (s) first, to calculate the area of triangle (area) at last\n",
    "### <<Formula to calculate semi-perimeter: s = (a+b+c )/2>>\n",
    "#### <<Formula to calculatearea = (s*(s-a)*(s-b)*(s-c)) ** 0.5>>\n",
    "#### a.\t15\n",
    "#### b.\t51\n",
    "#### c.\t17\n"
   ]
  },
  {
   "cell_type": "code",
   "execution_count": 69,
   "id": "e283f5d6",
   "metadata": {},
   "outputs": [],
   "source": [
    "from my_sample_pkg import testpackage"
   ]
  },
  {
   "cell_type": "code",
   "execution_count": 147,
   "id": "1194a107",
   "metadata": {},
   "outputs": [],
   "source": [
    "a = testpackage.a\n",
    "b = testpackage.b\n",
    "c = testpackage.c\n",
    "def Calc_Area_Triangle():\n",
    "    '''Calculate the Semi-Perimeter s=(a+b+c)/2 and Calculate the Area a = (s(s-a)(s-b)(s-c)) * 0.5'''    \n",
    "    s= float((a + b + c)/2)\n",
    "    area = (s*(s-a)*(s-b)*(s-c)) * 0.5\n",
    "    return s,area             "
   ]
  },
  {
   "cell_type": "code",
   "execution_count": 148,
   "id": "37580f70",
   "metadata": {},
   "outputs": [
    {
     "data": {
      "text/plain": [
       "(41.5, -127983.40625)"
      ]
     },
     "execution_count": 148,
     "metadata": {},
     "output_type": "execute_result"
    }
   ],
   "source": [
    "Calc_Area_Triangle()"
   ]
  },
  {
   "cell_type": "markdown",
   "id": "0ed28a47",
   "metadata": {},
   "source": [
    "## 9.\tWrite a list comprehension to print the odd numbers from 0 to 100"
   ]
  },
  {
   "cell_type": "code",
   "execution_count": 155,
   "id": "717ebe4e",
   "metadata": {},
   "outputs": [
    {
     "data": {
      "text/plain": [
       "[1,\n",
       " 3,\n",
       " 5,\n",
       " 7,\n",
       " 9,\n",
       " 11,\n",
       " 13,\n",
       " 15,\n",
       " 17,\n",
       " 19,\n",
       " 21,\n",
       " 23,\n",
       " 25,\n",
       " 27,\n",
       " 29,\n",
       " 31,\n",
       " 33,\n",
       " 35,\n",
       " 37,\n",
       " 39,\n",
       " 41,\n",
       " 43,\n",
       " 45,\n",
       " 47,\n",
       " 49,\n",
       " 51,\n",
       " 53,\n",
       " 55,\n",
       " 57,\n",
       " 59,\n",
       " 61,\n",
       " 63,\n",
       " 65,\n",
       " 67,\n",
       " 69,\n",
       " 71,\n",
       " 73,\n",
       " 75,\n",
       " 77,\n",
       " 79,\n",
       " 81,\n",
       " 83,\n",
       " 85,\n",
       " 87,\n",
       " 89,\n",
       " 91,\n",
       " 93,\n",
       " 95,\n",
       " 97,\n",
       " 99]"
      ]
     },
     "execution_count": 155,
     "metadata": {},
     "output_type": "execute_result"
    }
   ],
   "source": [
    "[a for a in range(0,100) if a % 2 == 1]"
   ]
  },
  {
   "cell_type": "markdown",
   "id": "80abdda9",
   "metadata": {},
   "source": [
    "## 10.\t Create a variable (ex: name) and store your full name in it. Then write a list comprehension to print your name excluding vowels (a, e, i, o, u)"
   ]
  },
  {
   "cell_type": "code",
   "execution_count": 159,
   "id": "57e8768e",
   "metadata": {},
   "outputs": [
    {
     "data": {
      "text/plain": [
       "['r', 'j', 'k', 'm', 'r']"
      ]
     },
     "execution_count": 159,
     "metadata": {},
     "output_type": "execute_result"
    }
   ],
   "source": [
    "name = 'rajkumar'\n",
    "[a for a in name if a not in ('a','e','i','o','u')]"
   ]
  },
  {
   "cell_type": "code",
   "execution_count": null,
   "id": "006a2c22",
   "metadata": {},
   "outputs": [],
   "source": []
  },
  {
   "cell_type": "code",
   "execution_count": null,
   "id": "3a078c44",
   "metadata": {},
   "outputs": [],
   "source": []
  },
  {
   "cell_type": "code",
   "execution_count": null,
   "id": "89335be5",
   "metadata": {},
   "outputs": [],
   "source": []
  },
  {
   "cell_type": "code",
   "execution_count": null,
   "id": "e79c999c",
   "metadata": {},
   "outputs": [],
   "source": []
  },
  {
   "cell_type": "code",
   "execution_count": null,
   "id": "9aaa39e6",
   "metadata": {},
   "outputs": [],
   "source": []
  },
  {
   "cell_type": "code",
   "execution_count": null,
   "id": "ea59919d",
   "metadata": {},
   "outputs": [],
   "source": []
  },
  {
   "cell_type": "code",
   "execution_count": null,
   "id": "e207e499",
   "metadata": {},
   "outputs": [],
   "source": []
  },
  {
   "cell_type": "code",
   "execution_count": null,
   "id": "ec2d297b",
   "metadata": {},
   "outputs": [],
   "source": []
  },
  {
   "cell_type": "code",
   "execution_count": null,
   "id": "310cebbc",
   "metadata": {},
   "outputs": [],
   "source": []
  },
  {
   "cell_type": "code",
   "execution_count": null,
   "id": "1f9121f0",
   "metadata": {},
   "outputs": [],
   "source": []
  }
 ],
 "metadata": {
  "kernelspec": {
   "display_name": "Python 3 (ipykernel)",
   "language": "python",
   "name": "python3"
  },
  "language_info": {
   "codemirror_mode": {
    "name": "ipython",
    "version": 3
   },
   "file_extension": ".py",
   "mimetype": "text/x-python",
   "name": "python",
   "nbconvert_exporter": "python",
   "pygments_lexer": "ipython3",
   "version": "3.9.7"
  }
 },
 "nbformat": 4,
 "nbformat_minor": 5
}
